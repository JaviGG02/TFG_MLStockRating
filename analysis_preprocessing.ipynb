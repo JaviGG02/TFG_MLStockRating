{
 "cells": [
  {
   "cell_type": "markdown",
   "metadata": {},
   "source": [
    "# Analisis exploratorio de datos (EDA)"
   ]
  },
  {
   "cell_type": "markdown",
   "metadata": {},
   "source": [
    "El propósito de este apartado es llevar a cabo un profundo análisis de los datos recabados gracias a FinnHub y AlphaVantage, con la finalidad de comprender mejor su naturaleza y relevancia. Esto nos ayudará a poder tomar decisiones informadas a la hora de llevar a cabo el preprocesado y la creación de modelos, teniendo en cuenta cuáles son las variables que más nos interesan o la correlación entre las mismas."
   ]
  },
  {
   "cell_type": "markdown",
   "metadata": {},
   "source": [
    "Comenzaremos importando todas las librerías necesarias para realizar esta actividad."
   ]
  },
  {
   "cell_type": "code",
   "execution_count": 34,
   "metadata": {},
   "outputs": [],
   "source": [
    "import pandas as pd \n",
    "import numpy as np\n",
    "import matplotlib.pyplot as plt"
   ]
  },
  {
   "cell_type": "markdown",
   "metadata": {},
   "source": [
    "Además, importamos los datos para el estudio"
   ]
  },
  {
   "cell_type": "code",
   "execution_count": 5,
   "metadata": {},
   "outputs": [],
   "source": [
    "financial_df = pd.read_csv('data/fundamentals.csv', sep=',')"
   ]
  },
  {
   "cell_type": "markdown",
   "metadata": {},
   "source": [
    "## Feature Analysis\n",
    "\n",
    "Una vez tenemos cargados los datos procedemos a analizarlos. Primeramente llevamos a cabo un análisis completo de todos los atributos, donde conoceremos los tipos de datos disponibles, sus estadísticas principales y las posibles correlaciones.\n",
    "\n",
    "CITA: @article{sahoo2019exploratory,\n",
    "  title={Exploratory data analysis using Python},\n",
    "  author={Sahoo, Kabita and Samal, Abhaya Kumar and Pramanik, Jitendra and Pani, Subhendu Kumar},\n",
    "  journal={International Journal of Innovative Technology and Exploring Engineering},\n",
    "  volume={8},\n",
    "  number={12},\n",
    "  pages={4727--4735},\n",
    "  year={2019}\n",
    "}"
   ]
  },
  {
   "cell_type": "markdown",
   "metadata": {},
   "source": [
    "### Data types\n",
    "\n",
    "En el análisis de los atributos, empezamos comprobando el tipo de los mismos, así como cuantos valores no nulos tenemos."
   ]
  },
  {
   "cell_type": "code",
   "execution_count": 10,
   "metadata": {},
   "outputs": [
    {
     "name": "stdout",
     "output_type": "stream",
     "text": [
      "<class 'pandas.core.frame.DataFrame'>\n",
      "RangeIndex: 64635 entries, 0 to 64634\n",
      "Data columns (total 74 columns):\n",
      " #   Column                                                     Non-Null Count  Dtype  \n",
      "---  ------                                                     --------------  -----  \n",
      " 0   Unnamed: 0                                                 64635 non-null  int64  \n",
      " 1   fiscalDateEnding                                           64635 non-null  object \n",
      " 2   totalCurrentAssets                                         45331 non-null  float64\n",
      " 3   totalAssets                                                55151 non-null  float64\n",
      " 4   currentAccountsPayable                                     35609 non-null  float64\n",
      " 5   totalCurrentLiabilities                                    45113 non-null  float64\n",
      " 6   commonStock                                                50333 non-null  float64\n",
      " 7   retainedEarnings                                           53105 non-null  float64\n",
      " 8   totalShareholderEquity                                     51886 non-null  float64\n",
      " 9   operatingExpenses                                          33145 non-null  float64\n",
      " 10  operatingIncome                                            44071 non-null  float64\n",
      " 11  incomeBeforeTax                                            28814 non-null  float64\n",
      " 12  incomeTaxExpense                                           45213 non-null  float64\n",
      " 13  netIncome                                                  50830 non-null  float64\n",
      " 14  commonStockSharesOutstanding                               35035 non-null  float64\n",
      " 15  changeInOperatingLiabilities                               15247 non-null  float64\n",
      " 16  operatingCashflow                                          45400 non-null  float64\n",
      " 17  cashflowFromInvestment                                     43638 non-null  float64\n",
      " 18  cashflowFromFinancing                                      44424 non-null  float64\n",
      " 19  changeInCashAndCashEquivalents                             23287 non-null  float64\n",
      " 20  totalLiabilities                                           62198 non-null  float64\n",
      " 21  totalNonCurrentAssets                                      52788 non-null  float64\n",
      " 22  reportedCurrency                                           63865 non-null  object \n",
      " 23  symbol                                                     64632 non-null  object \n",
      " 24  sharePrice                                                 61475 non-null  float64\n",
      " 25  1y_sharePrice                                              55699 non-null  float64\n",
      " 26  cashAndCashEquivalentsAtCarryingValue                      46328 non-null  float64\n",
      " 27  shortTermInvestments                                       6212 non-null   float64\n",
      " 28  currentNetReceivables                                      39282 non-null  float64\n",
      " 29  inventory                                                  24510 non-null  float64\n",
      " 30  currentDebt                                                27112 non-null  float64\n",
      " 31  propertyPlantEquipment                                     48392 non-null  float64\n",
      " 32  otherNonCurrentAssets                                      32760 non-null  float64\n",
      " 33  capitalLeaseObligations                                    40644 non-null  float64\n",
      " 34  sellingGeneralAndAdministrative                            18249 non-null  float64\n",
      " 35  researchAndDevelopment                                     24048 non-null  float64\n",
      " 36  costofGoodsAndServicesSold                                 14179 non-null  float64\n",
      " 37  interestExpense                                            30239 non-null  float64\n",
      " 38  otherNonOperatingIncome                                    24829 non-null  float64\n",
      " 39  comprehensiveIncomeNetOfTax                                38300 non-null  float64\n",
      " 40  depreciationAndAmortization                                25021 non-null  float64\n",
      " 41  depreciationDepletionAndAmortization                       24016 non-null  float64\n",
      " 42  changeInReceivables                                        29241 non-null  float64\n",
      " 43  changeInInventory                                          23119 non-null  float64\n",
      " 44  capitalExpenditures                                        41882 non-null  float64\n",
      " 45  ebit                                                       22699 non-null  float64\n",
      " 46  ebitda                                                     9749 non-null   float64\n",
      " 47  proceedsFromIssuanceOfCommonStock                          17862 non-null  float64\n",
      " 48  dividendPayout                                             7240 non-null   float64\n",
      " 49  otherNonCurrentLiabilities                                 25240 non-null  float64\n",
      " 50  goodwill                                                   29161 non-null  float64\n",
      " 51  proceedsFromIssuanceOfLongTermDebtAndCapitalSecuritiesNet  6781 non-null   float64\n",
      " 52  longTermDebtNoncurrent                                     13720 non-null  float64\n",
      " 53  treasuryStock                                              16121 non-null  float64\n",
      " 54  investments                                                2952 non-null   float64\n",
      " 55  totalRevenue                                               15830 non-null  float64\n",
      " 56  paymentsForRepurchaseOfCommonStock                         17254 non-null  float64\n",
      " 57  grossProfit                                                28368 non-null  float64\n",
      " 58  nonInterestIncome                                          3628 non-null   float64\n",
      " 59  otherCurrentLiabilities                                    10286 non-null  float64\n",
      " 60  shortTermDebt                                              3686 non-null   float64\n",
      " 61  netIncomeFromContinuingOperations                          3326 non-null   float64\n",
      " 62  shortLongTermDebtTotal                                     3167 non-null   float64\n",
      " 63  proceedsFromRepaymentsOfShortTermDebt                      3053 non-null   float64\n",
      " 64  sector                                                     64484 non-null  object \n",
      " 65  industria                                                  64484 non-null  object \n",
      " 66  EPS                                                        46321 non-null  float64\n",
      " 67  P/E                                                        44521 non-null  float64\n",
      " 68  currentRatio                                               44819 non-null  float64\n",
      " 69  inventoryTurnover                                          10877 non-null  float64\n",
      " 70  totalAssetsTurnover                                        10562 non-null  float64\n",
      " 71  ROE                                                        48341 non-null  float64\n",
      " 72  ROA                                                        50547 non-null  float64\n",
      " 73  bookValue                                                  48795 non-null  float64\n",
      "dtypes: float64(68), int64(1), object(5)\n",
      "memory usage: 36.5+ MB\n",
      "None\n"
     ]
    }
   ],
   "source": [
    "# Comprobamos los tipos de datos disponibles\n",
    "print(financial_df.info())"
   ]
  },
  {
   "cell_type": "markdown",
   "metadata": {},
   "source": [
    "Como era de esperar todas las columnas son float64; exceptuando fiscalDateEnding, reportedCurrency, symbol, sector e industria. Además tenemos una columna de índice \"unnamed: 0\". Por otro lado, tenemos un total de 64635 filas de información, con 72 \"features\" o atributos distintos, algunos de ellos contienen muchos null values, por tanto, serán variables que no aportarán casi información. Algunos ejemplos serían shorTermDebt, netIncomeFromcontinuingOperations, entre otros.\n",
    "\n",
    "Cabe destacar que casi todas las variables tienen algunos valores faltantes, por tanto, se necesitará llevar a cabo una correcta depuración de los datos a través de la eliminación e imputación de atributos."
   ]
  },
  {
   "cell_type": "markdown",
   "metadata": {},
   "source": [
    "### Main statistics\n",
    "\n",
    "A continuación, obtenemos una descripcion de los datos más relevantes, como son los resultados finales de los estados financieros o algunos de los ratios computados"
   ]
  },
  {
   "cell_type": "code",
   "execution_count": 24,
   "metadata": {},
   "outputs": [
    {
     "name": "stdout",
     "output_type": "stream",
     "text": [
      "        totalAssets     netIncome  totalLiabilities    sharePrice  \\\n",
      "count  5.515100e+04  5.083000e+04      6.219800e+04  6.147500e+04   \n",
      "mean   4.549746e+09  1.159560e+08      3.229495e+09  9.341551e+06   \n",
      "std    2.881059e+10  1.454275e+09      2.211128e+10  9.515364e+08   \n",
      "min   -5.921384e+09 -1.250000e+10     -2.465100e+10  3.000000e-04   \n",
      "25%    7.503469e+07 -1.021925e+07      2.250325e+07  7.410000e+00   \n",
      "50%    4.026870e+08  2.295000e+05      1.868520e+08  1.690380e+01   \n",
      "75%    1.806526e+09  1.911600e+07      1.183863e+09  4.025000e+01   \n",
      "max    4.831333e+12  7.908200e+10      4.132105e+12  1.618176e+11   \n",
      "\n",
      "       totalShareholderEquity  changeInCashAndCashEquivalents           ROA  \\\n",
      "count            5.188600e+04                    2.328700e+04  5.054700e+04   \n",
      "mean             1.374187e+09                    2.280225e+07           NaN   \n",
      "std              8.578987e+09                    8.580501e+08           NaN   \n",
      "min             -8.768000e+09                   -4.847700e+10          -inf   \n",
      "25%              2.192425e+07                   -1.812800e+07 -1.205020e-01   \n",
      "50%              1.430295e+08                   -1.683520e+05  1.052625e-03   \n",
      "75%              5.319382e+08                    2.183850e+07  1.844758e-02   \n",
      "max              6.992280e+11                    4.574800e+10           inf   \n",
      "\n",
      "                EPS  \n",
      "count  4.632100e+04  \n",
      "mean            NaN  \n",
      "std             NaN  \n",
      "min            -inf  \n",
      "25%   -3.724500e+02  \n",
      "50%   -1.818493e-03  \n",
      "75%    5.192000e+01  \n",
      "max             inf  \n"
     ]
    },
    {
     "name": "stderr",
     "output_type": "stream",
     "text": [
      "c:\\Users\\xavic\\Escritorio\\TFG_MLStockRating\\.venv\\Lib\\site-packages\\numpy\\core\\_methods.py:49: RuntimeWarning: invalid value encountered in reduce\n",
      "  return umr_sum(a, axis, dtype, out, keepdims, initial, where)\n",
      "c:\\Users\\xavic\\Escritorio\\TFG_MLStockRating\\.venv\\Lib\\site-packages\\numpy\\core\\_methods.py:49: RuntimeWarning: invalid value encountered in reduce\n",
      "  return umr_sum(a, axis, dtype, out, keepdims, initial, where)\n"
     ]
    }
   ],
   "source": [
    "# Obtenemos una descripcion de los datos más relevantes\n",
    "columns_to_describe = ['totalAssets', 'netIncome', 'totalLiabilities', 'sharePrice', 'totalShareholderEquity', 'changeInCashAndCashEquivalents', 'ROA', 'EPS']\n",
    "print(financial_df[columns_to_describe].describe())"
   ]
  },
  {
   "cell_type": "markdown",
   "metadata": {},
   "source": [
    "A través de estos números no podemos sacar muchas conclusiones, sin embargo, sí podemos detectar ciertas anomalías:\n",
    "- La media de precios está completamente disparada, con un valor de 9.34e+06. Si nos fijamos en los quartiles 1 y 3 los valores son de 7.41$ y 40.25$ respectivamente, por tanto, una media tan alta nos indica que hay valores muy atípicos que provocan esta gran inflación de los datos.\n",
    "- Los ratios contienen valores infinitos (ya que puede haber divisiones entre 0, valores nulos, etc.), lo cual dificulta el cálculo de las estadísticas básicas.\n",
    "\n",
    "Estas observaciones también tendrán que ser tomadas en cuenta en el preprocesado. Por ahora, simplemente quitaremos los valores infinitos en los ratios para poder llevar a cabo un correcto análisis gráfico posteriormente."
   ]
  },
  {
   "cell_type": "code",
   "execution_count": 35,
   "metadata": {},
   "outputs": [
    {
     "name": "stdout",
     "output_type": "stream",
     "text": [
      "                ROA           ROE           EPS           P/E     bookValue  currentRatio  totalAssetsTurnover  inventoryTurnover\n",
      "count  5.052700e+04  4.833500e+04  4.510400e+04  4.451700e+04  4.753400e+04  44817.000000         10535.000000       10862.000000\n",
      "mean  -4.197336e+02 -4.329519e+02 -2.238940e+02 -2.481297e+05  5.850364e+04      5.055005            -5.123162           7.381662\n",
      "std    1.064813e+05  1.088656e+05  2.152570e+05  4.549118e+07  2.551156e+06     49.585469           103.311548          56.359526\n",
      "min   -2.380400e+07 -2.380400e+07 -2.380400e+07 -9.567484e+09 -1.815542e+07      0.000000         -5532.911528          -0.105596\n",
      "25%   -1.202546e-01 -1.595883e-01 -3.399066e+02 -2.994771e-02  3.048654e+01      1.372601            -0.160475           0.934918\n",
      "50%    1.067135e-03  1.463818e-02 -2.737710e-03  0.000000e+00  9.612859e+02      2.448143             0.014242           1.866852\n",
      "75%    1.846662e-02  7.113904e-02  4.743600e+01  4.759223e-01  4.676189e+03      5.038463             0.073473           3.931814\n",
      "max    2.470200e+06  2.470200e+06  1.607770e+07  2.597421e+05  1.720512e+08  10291.564103          1448.785714        2772.016949\n"
     ]
    }
   ],
   "source": [
    "# Quitamos valores infinitos\n",
    "financial_df.replace([np.inf, -np.inf], np.nan, inplace=True)\n",
    "\n",
    "# Obtenemos una descripcion de los ratios\n",
    "columns_to_describe = ['ROA', 'ROE', 'EPS', 'P/E', 'bookValue', 'currentRatio', 'totalAssetsTurnover', 'inventoryTurnover']\n",
    "print(financial_df[columns_to_describe].describe())"
   ]
  },
  {
   "cell_type": "markdown",
   "metadata": {},
   "source": [
    "Como se puede ver, en este caso, a pesar de haber eliminado valores infinitos seguimos teniendo valores excesivamente atípicos como máximos y mínimos que provocan que las medias se alejen en muchos casos de los valores interquartílicos. Por tanto, en los ratios también tendremos que limpiar los \"outliers\". \n",
    "\n",
    "Por otro lado, también debemos estudiar los sectores e industrias presentes en los datos, que al ser datos categóricos no aparecen en el análisis anterior."
   ]
  },
  {
   "cell_type": "code",
   "execution_count": 45,
   "metadata": {},
   "outputs": [
    {
     "name": "stdout",
     "output_type": "stream",
     "text": [
      "sector\n",
      "LIFE SCIENCES                 0.282566\n",
      "FINANCE                       0.168709\n",
      "MANUFACTURING                 0.158784\n",
      "TRADE & SERVICES              0.145276\n",
      "TECHNOLOGY                    0.130373\n",
      "REAL ESTATE & CONSTRUCTION    0.066575\n",
      "ENERGY & TRANSPORTATION       0.047717\n",
      "Name: proportion, dtype: float64\n",
      "\n",
      "industria\n",
      "PHARMACEUTICAL PREPARATIONS                        0.129148\n",
      "STATE COMMERCIAL BANKS                             0.068203\n",
      "BIOLOGICAL PRODUCTS, (NO DISGNOSTIC SUBSTANCES)    0.037265\n",
      "SERVICES-PREPACKAGED SOFTWARE                      0.037079\n",
      "SURGICAL & MEDICAL INSTRUMENTS & APPARATUS         0.033729\n",
      "Name: proportion, dtype: float64\n",
      "                                    ROE            P/E    sharePrice\n",
      "sector                                                              \n",
      "ENERGY & TRANSPORTATION        0.127194      18.064097  4.680242e+03\n",
      "FINANCE                    -2959.905402      52.254881  2.899771e+01\n",
      "LIFE SCIENCES                168.246451 -808307.688132  3.305434e+07\n",
      "MANUFACTURING                  0.174092      -4.301599  1.601465e+05\n",
      "REAL ESTATE & CONSTRUCTION    -0.036001       1.969664  3.916674e+01\n",
      "TECHNOLOGY                    53.243277    -671.238024  1.083124e+05\n",
      "TRADE & SERVICES              12.776769     -59.744058  6.776995e+02\n"
     ]
    }
   ],
   "source": [
    "# Visualización de la distribución de sectores e industrias\n",
    "sector = financial_df['sector'].value_counts(normalize=True)\n",
    "print(sector,end='\\n\\n')\n",
    "\n",
    "industria = financial_df['industria'].value_counts(normalize=True)\n",
    "print(industria.head())\n",
    "\n",
    "# Medias sobre los sectores\n",
    "promedios = financial_df.groupby('sector')[['ROE', 'P/E', 'sharePrice']].mean()\n",
    "print(promedios)\n"
   ]
  },
  {
   "cell_type": "markdown",
   "metadata": {},
   "source": [
    "Como puede observarse, contamos con información sobre 7 sectores distintos, predominando la información sobre empresas del sector de las ciencias biológicas, destacando las compañías farmacéuticas entre las industrias más presentes en la base de datos.\n",
    "\n",
    "Por otro lado, puede comprobarse con la tercera tabla la disparidad de datos entre diferentes sectores. Sin embargo, debemos tener en cuenta que estos datos están posiblemente distorsionados a causa de valores atípicos."
   ]
  },
  {
   "cell_type": "markdown",
   "metadata": {},
   "source": [
    "### Correlations\n",
    "\n",
    "Ahora, estudiaremos la correlación de las diferentes variables numéricas. Debido a que la matriz es muy grande, vamos a centrarnos en aquellas variables con relaciones más fuertes (>0.9 ó <-0.9):"
   ]
  },
  {
   "cell_type": "code",
   "execution_count": 36,
   "metadata": {},
   "outputs": [
    {
     "name": "stdout",
     "output_type": "stream",
     "text": [
      "                              Variable 1                            Variable 2  Correlation\n",
      "0                            totalAssets                      totalLiabilities     0.973980\n",
      "1                            totalAssets                 totalNonCurrentAssets     0.955311\n",
      "2                            totalAssets                shortLongTermDebtTotal     0.926476\n",
      "3                 currentAccountsPayable               otherCurrentLiabilities     0.908467\n",
      "4                      operatingExpenses                researchAndDevelopment     0.933739\n",
      "5                        operatingIncome                       incomeBeforeTax     0.994594\n",
      "6                        operatingIncome                             netIncome     0.983030\n",
      "7                        operatingIncome                     operatingCashflow     0.967237\n",
      "8                        operatingIncome           comprehensiveIncomeNetOfTax     0.905957\n",
      "9                        operatingIncome                                  ebit     0.953689\n",
      "10                       operatingIncome                                ebitda     0.931707\n",
      "11                       operatingIncome    paymentsForRepurchaseOfCommonStock     0.906261\n",
      "12                       operatingIncome                           grossProfit     0.916209\n",
      "13                       incomeBeforeTax                       operatingIncome     0.994594\n",
      "14                       incomeBeforeTax                             netIncome     0.990981\n",
      "15                       incomeBeforeTax                     operatingCashflow     0.963323\n",
      "16                       incomeBeforeTax           comprehensiveIncomeNetOfTax     0.925822\n",
      "17                       incomeBeforeTax                                  ebit     0.973483\n",
      "18                       incomeBeforeTax                                ebitda     0.937735\n",
      "19                       incomeBeforeTax    paymentsForRepurchaseOfCommonStock     0.919417\n",
      "20                       incomeBeforeTax                           grossProfit     0.914297\n",
      "21                             netIncome                       operatingIncome     0.983030\n",
      "22                             netIncome                       incomeBeforeTax     0.990981\n",
      "23                             netIncome                     operatingCashflow     0.941532\n",
      "24                             netIncome           comprehensiveIncomeNetOfTax     0.925465\n",
      "25                             netIncome                                  ebit     0.940469\n",
      "26                             netIncome                           grossProfit     0.902019\n",
      "27                     operatingCashflow                       operatingIncome     0.967237\n",
      "28                     operatingCashflow                       incomeBeforeTax     0.963323\n",
      "29                     operatingCashflow                             netIncome     0.941532\n",
      "30                     operatingCashflow           comprehensiveIncomeNetOfTax     0.905545\n",
      "31                     operatingCashflow                                ebitda     0.919610\n",
      "32                     operatingCashflow                           grossProfit     0.934577\n",
      "33                      totalLiabilities                           totalAssets     0.973980\n",
      "34                      totalLiabilities                 totalNonCurrentAssets     0.933286\n",
      "35                      totalLiabilities                longTermDebtNoncurrent     0.908614\n",
      "36                      totalLiabilities                shortLongTermDebtTotal     0.946460\n",
      "37                 totalNonCurrentAssets                           totalAssets     0.955311\n",
      "38                 totalNonCurrentAssets                      totalLiabilities     0.933286\n",
      "39                 totalNonCurrentAssets                shortLongTermDebtTotal     0.911157\n",
      "40                            sharePrice                         1y_sharePrice     0.948277\n",
      "41                            sharePrice                                   P/E    -0.998423\n",
      "42                         1y_sharePrice                            sharePrice     0.948277\n",
      "43                         1y_sharePrice                                   P/E    -0.998060\n",
      "44                 otherNonCurrentAssets               otherCurrentLiabilities     0.941392\n",
      "45                researchAndDevelopment                     operatingExpenses     0.933739\n",
      "46                researchAndDevelopment                   capitalExpenditures     0.918166\n",
      "47                researchAndDevelopment                           grossProfit     0.914463\n",
      "48           comprehensiveIncomeNetOfTax                       operatingIncome     0.905957\n",
      "49           comprehensiveIncomeNetOfTax                       incomeBeforeTax     0.925822\n",
      "50           comprehensiveIncomeNetOfTax                             netIncome     0.925465\n",
      "51           comprehensiveIncomeNetOfTax                     operatingCashflow     0.905545\n",
      "52           depreciationAndAmortization  depreciationDepletionAndAmortization     0.999969\n",
      "53  depreciationDepletionAndAmortization           depreciationAndAmortization     0.999969\n",
      "54                   capitalExpenditures                researchAndDevelopment     0.918166\n",
      "55                                  ebit                       operatingIncome     0.953689\n",
      "56                                  ebit                       incomeBeforeTax     0.973483\n",
      "57                                  ebit                             netIncome     0.940469\n",
      "58                                  ebit                                ebitda     0.912847\n",
      "59                                ebitda                       operatingIncome     0.931707\n",
      "60                                ebitda                       incomeBeforeTax     0.937735\n",
      "61                                ebitda                     operatingCashflow     0.919610\n",
      "62                                ebitda                                  ebit     0.912847\n",
      "63            otherNonCurrentLiabilities               otherCurrentLiabilities     0.931632\n",
      "64                longTermDebtNoncurrent                      totalLiabilities     0.908614\n",
      "65                longTermDebtNoncurrent                shortLongTermDebtTotal     0.995328\n",
      "66    paymentsForRepurchaseOfCommonStock                       operatingIncome     0.906261\n",
      "67    paymentsForRepurchaseOfCommonStock                       incomeBeforeTax     0.919417\n",
      "68                           grossProfit                       operatingIncome     0.916209\n",
      "69                           grossProfit                       incomeBeforeTax     0.914297\n",
      "70                           grossProfit                             netIncome     0.902019\n",
      "71                           grossProfit                     operatingCashflow     0.934577\n",
      "72                           grossProfit                researchAndDevelopment     0.914463\n",
      "73               otherCurrentLiabilities                currentAccountsPayable     0.908467\n",
      "74               otherCurrentLiabilities                 otherNonCurrentAssets     0.941392\n",
      "75               otherCurrentLiabilities            otherNonCurrentLiabilities     0.931632\n",
      "76                shortLongTermDebtTotal                           totalAssets     0.926476\n",
      "77                shortLongTermDebtTotal                      totalLiabilities     0.946460\n",
      "78                shortLongTermDebtTotal                 totalNonCurrentAssets     0.911157\n",
      "79                shortLongTermDebtTotal                longTermDebtNoncurrent     0.995328\n",
      "80                                   P/E                            sharePrice    -0.998423\n",
      "81                                   P/E                         1y_sharePrice    -0.998060\n",
      "82                                   ROE                                   ROA     0.999968\n",
      "83                                   ROA                                   ROE     0.999968\n"
     ]
    }
   ],
   "source": [
    "# Matriz de correlacion\n",
    "numerical_variables = financial_df.select_dtypes(include=['float64']).columns\n",
    "corr_matrix = financial_df[numerical_variables].corr()\n",
    "\n",
    "# Filtrar las correlaciones fuertes, sin tener en cuenta las diagonales\n",
    "strong_correlations = (corr_matrix.abs() > 0.9) & (corr_matrix != 1.0)\n",
    "\n",
    "# Encontrar pares con correlación fuerte\n",
    "strong_pairs = [(i, j) for i in numerical_variables for j in numerical_variables if strong_correlations.loc[i, j]]\n",
    "\n",
    "# Crear un DataFrame con los pares y sus valores de correlación\n",
    "corr_values = [corr_matrix.loc[pair[0], pair[1]] for pair in strong_pairs]\n",
    "strong_corr_df = pd.DataFrame(strong_pairs, columns=['Variable 1', 'Variable 2'])\n",
    "strong_corr_df['Correlation'] = corr_values\n",
    "\n",
    "\n",
    "# Ajustar opciones de visualización\n",
    "pd.set_option('display.max_columns', None)  # Mostrar todas las columnas\n",
    "pd.set_option('display.width', 1000)       # Ajustar el ancho para la visualización del DataFrame\n",
    "print(strong_corr_df)"
   ]
  },
  {
   "cell_type": "markdown",
   "metadata": {},
   "source": [
    "Como podemos ver hay una gran cantidad de correlaciones fuertes, sin embargo, en datos financieros esto es normal ya que muchas variables provienen del cómputo de otras. Por ejemplo, la relación entre P/E y el precio de la acción (P/E - sharePrice), o el beneficio bruto y el beneficio neto (grossProfit - netIncome). Por tanto, esto no debería suponer un problema."
   ]
  },
  {
   "cell_type": "markdown",
   "metadata": {},
   "source": [
    "## Graphical Analysis\n",
    "\n",
    "A continuación llevaremos a cabo la representación de numerosos gráficos para poder entender los datos de una manera más interactiva y visual"
   ]
  },
  {
   "cell_type": "markdown",
   "metadata": {},
   "source": [
    "### Análisis de distribuciones\n",
    "\n",
    "En este apartado comprobaremos las distribuciones de los datos para conocer sus dominios, sesgos y valores atípicos.\n",
    "\n",
    "Graficos de barras, histogramas y graficos de densidad"
   ]
  },
  {
   "cell_type": "markdown",
   "metadata": {},
   "source": [
    "### Análisis de series temporales\n",
    "\n",
    "A través de gráficos temporales podremos observar las tendencias y la evolución histórica de diferentes atributos. Lo que nos ayudará a entender mejor el contexto económico.\n",
    "\n",
    "Gráficos de líneas y área"
   ]
  },
  {
   "cell_type": "markdown",
   "metadata": {},
   "source": [
    "### Análisis multivariable\n",
    "\n",
    "En este apartado nos centramos en entender mejor la relación entre variables.\n",
    "\n",
    "Gráficos radar y mosaico"
   ]
  }
 ],
 "metadata": {
  "kernelspec": {
   "display_name": ".venv",
   "language": "python",
   "name": "python3"
  },
  "language_info": {
   "codemirror_mode": {
    "name": "ipython",
    "version": 3
   },
   "file_extension": ".py",
   "mimetype": "text/x-python",
   "name": "python",
   "nbconvert_exporter": "python",
   "pygments_lexer": "ipython3",
   "version": "3.11.0"
  }
 },
 "nbformat": 4,
 "nbformat_minor": 2
}
