{
  "cells": [
    {
      "cell_type": "markdown",
      "metadata": {
        "id": "J6EFDHjM2YP8"
      },
      "source": [
        "# Desarrollo de modelos predictivos\n",
        "En este python book se tratará el desarrollo de modelos predictivos para la predicción del precio de una acción al año siguiente, empleando los datos obtenidos de FinnHub y AlphaVantage."
      ]
    },
    {
      "cell_type": "markdown",
      "metadata": {
        "id": "zgdVAubge64l"
      },
      "source": [
        "## Librerías y paquetes\n",
        "Comenzaremos importando las librerias necesarias para la construcción de los modelos"
      ]
    },
    {
      "cell_type": "code",
      "execution_count": 2,
      "metadata": {
        "colab": {
          "base_uri": "https://localhost:8080/"
        },
        "id": "r5q8QTwx2xIQ",
        "outputId": "436ba836-ecd4-41f8-8d25-2d7e3db2f3ac"
      },
      "outputs": [
        {
          "name": "stdout",
          "output_type": "stream",
          "text": [
            "Collecting scikeras\n",
            "  Downloading scikeras-0.12.0-py3-none-any.whl (27 kB)\n",
            "Requirement already satisfied: packaging>=0.21 in /usr/local/lib/python3.10/dist-packages (from scikeras) (24.0)\n",
            "Requirement already satisfied: scikit-learn>=1.0.0 in /usr/local/lib/python3.10/dist-packages (from scikeras) (1.2.2)\n",
            "Requirement already satisfied: numpy>=1.17.3 in /usr/local/lib/python3.10/dist-packages (from scikit-learn>=1.0.0->scikeras) (1.25.2)\n",
            "Requirement already satisfied: scipy>=1.3.2 in /usr/local/lib/python3.10/dist-packages (from scikit-learn>=1.0.0->scikeras) (1.11.4)\n",
            "Requirement already satisfied: joblib>=1.1.1 in /usr/local/lib/python3.10/dist-packages (from scikit-learn>=1.0.0->scikeras) (1.3.2)\n",
            "Requirement already satisfied: threadpoolctl>=2.0.0 in /usr/local/lib/python3.10/dist-packages (from scikit-learn>=1.0.0->scikeras) (3.3.0)\n",
            "Installing collected packages: scikeras\n",
            "Successfully installed scikeras-0.12.0\n"
          ]
        }
      ],
      "source": [
        "# Importar las bibliotecas necesarias\n",
        "import pandas                as pd\n",
        "import numpy                 as np\n",
        "\n",
        "# Medicion y benchmark\n",
        "import time\n",
        "from sklearn                 import metrics\n",
        "from sklearn.dummy           import DummyRegressor\n",
        "\n",
        "# Creacion de train/test split\n",
        "from sklearn.model_selection import train_test_split\n",
        "from sklearn.model_selection import TimeSeriesSplit\n",
        "\n",
        "# Preparacion del pipeline\n",
        "from sklearn.compose         import ColumnTransformer\n",
        "from sklearn.pipeline        import Pipeline\n",
        "from sklearn.impute          import SimpleImputer\n",
        "from sklearn.preprocessing   import StandardScaler, MaxAbsScaler, OneHotEncoder\n",
        "\n",
        "# Creacion Modelos básicos\n",
        "from sklearn.neighbors       import KNeighborsRegressor\n",
        "from sklearn.linear_model    import LinearRegression, Ridge, Lasso, ElasticNet\n",
        "from sklearn.tree            import DecisionTreeRegressor\n",
        "from sklearn.ensemble        import RandomForestRegressor, GradientBoostingRegressor, AdaBoostRegressor\n",
        "from sklearn.svm             import SVR\n",
        "from xgboost                 import XGBRegressor\n",
        "from lightgbm                import LGBMRegressor\n",
        "from sklearn.model_selection import GridSearchCV\n",
        "\n",
        "# Creación de Redes de Neuronas\n",
        "import tensorflow            as tf\n",
        "from itertools               import product\n",
        "from scipy.sparse            import csr_matrix\n",
        "from tensorflow.keras.models import Sequential\n",
        "from tensorflow.keras.layers import LSTM, Conv1D, MaxPooling1D, GRU, Flatten, Dense, Dropout\n",
        "!pip install scikeras\n",
        "from scikeras.wrappers       import KerasRegressor\n",
        "from tensorflow.keras.callbacks    import EarlyStopping\n",
        "from tensorflow.keras.regularizers import l2\n",
        "\n",
        "# Exportacion del modelo\n",
        "from sklearn.ensemble        import GradientBoostingRegressor\n",
        "from joblib                  import dump, load\n",
        "\n",
        "# Estudio y representación\n",
        "import matplotlib.pyplot     as plt"
      ]
    },
    {
      "cell_type": "markdown",
      "metadata": {
        "id": "TZ8XpZ7t3VPB"
      },
      "source": [
        "## Preprocesado\n",
        "A continuación, debemos obtener los datos y preprocesarlos, para poder llevar a cabo el entrenamiento con datos relevantes"
      ]
    },
    {
      "cell_type": "code",
      "execution_count": 3,
      "metadata": {
        "id": "FWHqBfsD5dt6"
      },
      "outputs": [],
      "source": [
        "# Cargar los datos\n",
        "df = pd.read_csv('/content/drive/MyDrive/Colab Notebooks/fundamentals.csv', sep=',')\n",
        "preprocessed_df = df.copy()\n",
        "\n",
        "# 1. Eliminar outliers y valores infinitos\n",
        "price_limit = preprocessed_df['sharePrice'].quantile(0.985)\n",
        "preprocessed_df = preprocessed_df[(preprocessed_df['sharePrice']<=price_limit) & (preprocessed_df['1y_sharePrice']<=price_limit)]\n",
        "preprocessed_df.replace([np.inf, -np.inf], np.nan, inplace=True)\n",
        "\n",
        "# 2. Computar cashflows\n",
        "preprocessed_df['cashflowFromFinancing'] = pd.to_numeric(preprocessed_df['cashflowFromFinancing'], errors='coerce')\n",
        "preprocessed_df['cashflowFromInvestment'] = pd.to_numeric(preprocessed_df['cashflowFromInvestment'], errors='coerce')\n",
        "preprocessed_df['operatingCashflow'] = pd.to_numeric(preprocessed_df['operatingCashflow'], errors='coerce')\n",
        "preprocessed_df['changeInCashAndCashEquivalents'] = preprocessed_df['changeInCashAndCashEquivalents'].fillna(\n",
        "    preprocessed_df['cashflowFromFinancing'] + preprocessed_df['cashflowFromInvestment'] + preprocessed_df['operatingCashflow']\n",
        ")\n",
        "\n",
        "# 3. Computar media del sector anual\n",
        "preprocessed_df['fiscalDateEnding'] = pd.to_datetime(preprocessed_df['fiscalDateEnding'])\n",
        "preprocessed_df['year'] = preprocessed_df['fiscalDateEnding'].dt.year\n",
        "mean_price_by_sector_year = preprocessed_df.groupby(['sector', 'year'])['sharePrice'].mean().reset_index(name='meanSectorPrice')\n",
        "preprocessed_df = preprocessed_df.merge(mean_price_by_sector_year, on=['sector', 'year'])\n",
        "\n",
        "# 4. Eliminar columnas con +30% de valores faltantes\n",
        "missing_percentage = preprocessed_df.isnull().mean() * 100\n",
        "columns_to_drop = missing_percentage[missing_percentage > 30]\n",
        "columns_to_drop.drop(labels=['changeInCashAndCashEquivalents'], inplace=True)\n",
        "preprocessed_df.drop(columns=columns_to_drop.index, inplace=True)\n",
        "# extra: Eliminar las filas donde '1y_sharePrice' es NaN, ya que no tendrán un valor objetivo\n",
        "preprocessed_df = preprocessed_df.dropna(subset=['1y_sharePrice'])\n",
        "\n",
        "# 5. Eliminar los años del COVID\n",
        "preprocessed_df = preprocessed_df.loc[~(preprocessed_df['year'].isin([2020, 2021]))]\n",
        "\n",
        "# 6. Eliminar columnas irrelevantes\n",
        "columns_to_drop = ['Unnamed: 0', 'reportedCurrency', 'industria', 'year']\n",
        "preprocessed_df.drop(columns=columns_to_drop, inplace=True)"
      ]
    },
    {
      "cell_type": "markdown",
      "metadata": {
        "id": "JKuEv2u09uJp"
      },
      "source": [
        "## Creación de modelos básicos sin ajuste de hiperparámetros\n",
        "Una vez se han preprocesado los datos, ya podemos emplearlos para la creación de los modelos. El siguiente paso será definir los datos de entrenamiento y test, así como la creación de un modelo dummy que funcione como benchmark. Además comenzamos a preparar el pipeline y a definir los modelos que emplearemos para la predicción"
      ]
    },
    {
      "cell_type": "code",
      "execution_count": null,
      "metadata": {
        "colab": {
          "base_uri": "https://localhost:8080/"
        },
        "id": "CS7oN6CS-A5N",
        "outputId": "3bfc6834-b6c6-412e-b24f-4aeec9921d47"
      },
      "outputs": [
        {
          "name": "stdout",
          "output_type": "stream",
          "text": [
            "Dummy regressor MAE: 34.17534043736865\n"
          ]
        }
      ],
      "source": [
        "# Separar la variable objetivo\n",
        "y = preprocessed_df['1y_sharePrice']\n",
        "X = preprocessed_df.drop('1y_sharePrice', axis=1)\n",
        "\n",
        "# Dividir los datos en conjuntos de entrenamiento y prueba respetando la temporalidad\n",
        "tscv = TimeSeriesSplit(n_splits=5)\n",
        "for train_index, test_index in tscv.split(X):\n",
        "    X_train, X_test = X.iloc[train_index], X.iloc[test_index]\n",
        "    y_train, y_test = y.iloc[train_index], y.iloc[test_index]\n",
        "\n",
        "# Creamos un modelo dummy para usar como benchmark\n",
        "dummy_regr = DummyRegressor(strategy=\"mean\")\n",
        "dummy_regr.fit(X_train, y_train)\n",
        "y_dummy_pred = dummy_regr.predict(X_test)\n",
        "dummy_MAE = metrics.mean_absolute_error(y_test, y_dummy_pred)\n",
        "print(f\"Dummy regressor MAE: {dummy_MAE}\")\n",
        "\n",
        "# Preparacion del pipeline -> creacion del transformador de columnas\n",
        "numeric_features = X.select_dtypes(include=['int64', 'float64']).columns\n",
        "categorical_features = X.select_dtypes(include=['object', 'string']).columns\n",
        "preprocessor = ColumnTransformer(\n",
        "    transformers=[\n",
        "        ('num', SimpleImputer(strategy='mean'), numeric_features),\n",
        "        ('cat', OneHotEncoder(handle_unknown='ignore'), categorical_features)\n",
        "    ]\n",
        ")\n",
        "\n",
        "# Diccionario de modelos a desarrollar\n",
        "models = {\n",
        "    \"knn\": KNeighborsRegressor(),\n",
        "    \"linear_regression\": LinearRegression(),\n",
        "    \"ridge\": Ridge(random_state=42),\n",
        "    \"lasso\": Lasso(random_state=42),\n",
        "    \"decision_tree\": DecisionTreeRegressor(random_state=42),\n",
        "    \"random_forest\": RandomForestRegressor(random_state=42),\n",
        "    \"gradient_boosting\": GradientBoostingRegressor(random_state=42),\n",
        "    \"adaboost\": AdaBoostRegressor(random_state=42),\n",
        "    \"svr\": SVR(),\n",
        "    \"xgboost\": XGBRegressor(random_state=42),\n",
        "    \"lightgbm\": LGBMRegressor(random_state=42, verbose=-1),\n",
        "}"
      ]
    },
    {
      "cell_type": "markdown",
      "metadata": {
        "id": "onNnFe5i-Tbz"
      },
      "source": [
        "A continuación emplearemos los modelos definidos para ver cuales se comportan mejor al no emplear ajuste de hiperparámetros"
      ]
    },
    {
      "cell_type": "code",
      "execution_count": null,
      "metadata": {
        "colab": {
          "background_save": true,
          "base_uri": "https://localhost:8080/"
        },
        "id": "Fo0t6v33sfow",
        "outputId": "77e1fa1d-cd3a-4023-9f56-a37a4a0f5d79"
      },
      "outputs": [
        {
          "name": "stdout",
          "output_type": "stream",
          "text": [
            "Media de precios: 38.954854550048125\n",
            "knn MAE: 27.503675157377995  --  mejora respecto a dummy: 19.52186926189503  --  Tiempo de ejecucion (s): 91.32185411453247\n",
            "linear_regression MAE: 27.243068665422474  --  mejora respecto a dummy: 20.28442638238113  --  Tiempo de ejecucion (s): 0.5679361820220947\n",
            "ridge MAE: 23.029984476937376  --  mejora respecto a dummy: 32.61227486777134  --  Tiempo de ejecucion (s): 0.3105475902557373\n",
            "lasso MAE: 20.177426985402  --  mejora respecto a dummy: 40.959104643360874  --  Tiempo de ejecucion (s): 0.5473577976226807\n",
            "decision_tree MAE: 17.099543618250074  --  mejora respecto a dummy: 49.965257406616004  --  Tiempo de ejecucion (s): 19.413504123687744\n",
            "random_forest MAE: 12.786338124554817  --  mejora respecto a dummy: 62.58606948484487  --  Tiempo de ejecucion (s): 1335.583333015442\n",
            "gradient_boosting MAE: 12.854972987264299  --  mejora respecto a dummy: 62.3852379442337  --  Tiempo de ejecucion (s): 19.199392795562744\n",
            "adaboost MAE: 19.94270503847901  --  mejora respecto a dummy: 41.645921347800595  --  Tiempo de ejecucion (s): 2.6006920337677\n",
            "svr MAE: 25.155055060701784  --  mejora respecto a dummy: 26.394134663260683  --  Tiempo de ejecucion (s): 127.52980351448059\n",
            "xgboost MAE: 13.203244003684942  --  mejora respecto a dummy: 61.366166848046944  --  Tiempo de ejecucion (s): 1.3268797397613525\n",
            "lightgbm MAE: 13.062953793695895  --  mejora respecto a dummy: 61.776668128191176  --  Tiempo de ejecucion (s): 0.8460168838500977\n"
          ]
        }
      ],
      "source": [
        "print(f'Media de precios: {preprocessed_df[\"1y_sharePrice\"].mean()}')\n",
        "\n",
        "for model in models:\n",
        "  start_t = time.time()\n",
        "  # Crear una pipeline con el preprocesador y el clasificador\n",
        "  pipeline = Pipeline([\n",
        "      ('preprocessor', preprocessor),\n",
        "      ('scaler', MaxAbsScaler()),  # with_mean=False para manejar matrices dispersas\n",
        "      ('regressor', models[model])\n",
        "  ])\n",
        "\n",
        "  # Entrenar el modelo y realizar predicciones\n",
        "  pipeline.fit(X_train, y_train)\n",
        "  y_predict = pipeline.predict(X_test)\n",
        "  end_t = time.time()\n",
        "\n",
        "  # Comprobamos el MAE respecto al dummy regressor\n",
        "  MAE = metrics.mean_absolute_error(y_test, y_predict)\n",
        "  diff_MAE = (dummy_MAE - MAE)*100 / dummy_MAE\n",
        "  print(f\"{model} MAE: {MAE}  --  mejora respecto a dummy: {diff_MAE}  --  Tiempo de ejecucion (s): {end_t - start_t}\")\n"
      ]
    },
    {
      "cell_type": "markdown",
      "metadata": {
        "id": "6nyL7zm4L-bO"
      },
      "source": [
        "Como podemos comprobar, los modelos que tienen mayor precisión y se comportan mejor son los ensembles, en especial random forest, aunque este por contrapartida es el que más tiempo ha tardado en ser entrenado y evaluado. El segundo modelo con mejor precisión es Gradient Boosting, con un tiempo de ejecución aceptable. También, debemos destacar el lightgbm, un modelo con una precisión ligeramente inferior a los anteriormente mencionados, pero con un tiempo de entrenamiento muy reducido.\n",
        "\n",
        "Por otro lado, los modelos más sencillos como los lineales, maquina de vector de soporte o KNN no consiguen ofrecer tan buenos resultados."
      ]
    },
    {
      "cell_type": "markdown",
      "metadata": {
        "id": "QZcVKkQzefLB"
      },
      "source": [
        "### Prueba de las predicciones\n",
        "A continuación, vamos a preparar unos gráficos comparativos entre valores reales y predichos de algunas de empresas rivales en sus sectores y ampliamente conocidas, de manera que podamos ilustrar y entender mejor el funcionamiento de los modelos:"
      ]
    },
    {
      "cell_type": "code",
      "execution_count": null,
      "metadata": {
        "colab": {
          "base_uri": "https://localhost:8080/",
          "height": 1000
        },
        "id": "Z8Mlx-1hqvKg",
        "outputId": "52441d51-936c-4c44-c08b-76fdd0480850"
      },
      "outputs": [
        {
          "name": "stderr",
          "output_type": "stream",
          "text": [
            "<ipython-input-6-0d124665726b>:26: SettingWithCopyWarning: \n",
            "A value is trying to be set on a copy of a slice from a DataFrame.\n",
            "Try using .loc[row_indexer,col_indexer] = value instead\n",
            "\n",
            "See the caveats in the documentation: https://pandas.pydata.org/pandas-docs/stable/user_guide/indexing.html#returning-a-view-versus-a-copy\n",
            "  X_symbol['fiscalDateEnding'] = pd.to_datetime(X_symbol['fiscalDateEnding'])\n"
          ]
        },
        {
          "data": {
            "image/png": "[encoded data removed]",
            "text/plain": [
              "<Figure size 1000x500 with 1 Axes>"
            ]
          },
          "metadata": {},
          "output_type": "display_data"
        },
        {
          "name": "stderr",
          "output_type": "stream",
          "text": [
            "<ipython-input-6-0d124665726b>:26: SettingWithCopyWarning: \n",
            "A value is trying to be set on a copy of a slice from a DataFrame.\n",
            "Try using .loc[row_indexer,col_indexer] = value instead\n",
            "\n",
            "See the caveats in the documentation: https://pandas.pydata.org/pandas-docs/stable/user_guide/indexing.html#returning-a-view-versus-a-copy\n",
            "  X_symbol['fiscalDateEnding'] = pd.to_datetime(X_symbol['fiscalDateEnding'])\n"
          ]
        },
        {
          "data": {
            "image/png": "[encoded data removed]",
            "text/plain": [
              "<Figure size 1000x500 with 1 Axes>"
            ]
          },
          "metadata": {},
          "output_type": "display_data"
        },
        {
          "name": "stderr",
          "output_type": "stream",
          "text": [
            "<ipython-input-6-0d124665726b>:26: SettingWithCopyWarning: \n",
            "A value is trying to be set on a copy of a slice from a DataFrame.\n",
            "Try using .loc[row_indexer,col_indexer] = value instead\n",
            "\n",
            "See the caveats in the documentation: https://pandas.pydata.org/pandas-docs/stable/user_guide/indexing.html#returning-a-view-versus-a-copy\n",
            "  X_symbol['fiscalDateEnding'] = pd.to_datetime(X_symbol['fiscalDateEnding'])\n"
          ]
        },
        {
          "data": {
            "image/png": "[encoded data removed]",
            "text/plain": [
              "<Figure size 1000x500 with 1 Axes>"
            ]
          },
          "metadata": {},
          "output_type": "display_data"
        },
        {
          "name": "stderr",
          "output_type": "stream",
          "text": [
            "<ipython-input-6-0d124665726b>:26: SettingWithCopyWarning: \n",
            "A value is trying to be set on a copy of a slice from a DataFrame.\n",
            "Try using .loc[row_indexer,col_indexer] = value instead\n",
            "\n",
            "See the caveats in the documentation: https://pandas.pydata.org/pandas-docs/stable/user_guide/indexing.html#returning-a-view-versus-a-copy\n",
            "  X_symbol['fiscalDateEnding'] = pd.to_datetime(X_symbol['fiscalDateEnding'])\n"
          ]
        },
        {
          "data": {
            "image/png": "[encoded data removed]",
            "text/plain": [
              "<Figure size 1000x500 with 1 Axes>"
            ]
          },
          "metadata": {},
          "output_type": "display_data"
        }
      ],
      "source": [
        "symbols = ['AAPL', 'MSFT', 'NVDA', 'AMD']\n",
        "for symbol in symbols:\n",
        "        # Excluir el símbolo actual de X e y antes de la división TimeSeriesSplit\n",
        "    X_no_symbol = X[X['symbol'] != symbol].copy()\n",
        "    y_no_symbol = y[X['symbol'] != symbol].copy()\n",
        "\n",
        "    # Inicializar TimeSeriesSplit y dividir los datos\n",
        "    for train_index, test_index in tscv.split(X_no_symbol):\n",
        "        X_train, X_test = X_no_symbol.iloc[train_index], X_no_symbol.iloc[test_index]\n",
        "        y_train, y_test = y_no_symbol.iloc[train_index], y_no_symbol.iloc[test_index]\n",
        "\n",
        "    # Crear y entrenar la pipeline con los datos de entrenamiento que excluyen el símbolo actual\n",
        "    pipeline = Pipeline([\n",
        "        ('preprocessor', preprocessor),\n",
        "        ('scaler', MaxAbsScaler()),  # with_mean=False para manejar matrices dispersas\n",
        "        ('regressor', GradientBoostingRegressor(random_state=42))\n",
        "    ])\n",
        "    pipeline.fit(X_train, y_train)\n",
        "\n",
        "    # Hacer predicciones para el símbolo actual\n",
        "    X_symbol = X[X['symbol'] == symbol]\n",
        "    y_symbol_real = y[X['symbol'] == symbol]\n",
        "    y_symbol_pred = pipeline.predict(X_symbol)\n",
        "\n",
        "    # Asegurarse de que 'fiscalDateEnding' está en formato datetime\n",
        "    X_symbol['fiscalDateEnding'] = pd.to_datetime(X_symbol['fiscalDateEnding'])\n",
        "\n",
        "    # Gráfico para el símbolo actual\n",
        "    plt.figure(figsize=(10, 5))\n",
        "    plt.plot(X_symbol['fiscalDateEnding'], y_symbol_real, label=f'Precio Real de {symbol}', marker='o')\n",
        "    plt.plot(X_symbol['fiscalDateEnding'], y_symbol_pred, label=f'Predicción del Precio de {symbol}', linestyle='--', marker='x')\n",
        "    plt.title(f'Comparación del Precio Real vs Predicción para {symbol}')\n",
        "    plt.xlabel('Fecha Fiscal')\n",
        "    plt.ylabel('Precio de la Acción')\n",
        "    plt.legend()\n",
        "    plt.xticks(rotation=45)\n",
        "    plt.tight_layout()\n",
        "    plt.show()"
      ]
    },
    {
      "cell_type": "markdown",
      "metadata": {
        "id": "gJMwotLxeYia"
      },
      "source": [
        "Como podemos observar, los modelos predicen correctamente las tendencias en la mayoría de los casos, sin embargo, son poco precisos en el valor concreto predicho."
      ]
    },
    {
      "cell_type": "markdown",
      "metadata": {
        "id": "ayg5SrjGfPoc"
      },
      "source": [
        "## Creación de modelos básicos con ajuste de hiperparámetros"
      ]
    },
    {
      "cell_type": "markdown",
      "metadata": {
        "id": "MKNZK-61VM2x"
      },
      "source": [
        "En este apartado se estudiará como mejorar los modelos básicos previamente creados mediante la asignación de hiperparámetros. Para ello definiremos los diccionarios de parámetros para cada modelo y se probará a buscar los valores más apropiados mediante la utilización de GridSearch. Al final de esta sección se ejecutarán los modelos con el mismo conjunto de entrenamiento y test que en el caso sin hiperparámetros para poder ver la diferencia real entre usarlos y no. Esto se hace debido a que GridSearch provee como MAE la media de resultados de todos los splits realizados, por tanto no son resultados directamente comparables.\n",
        "\n",
        "Para comenzar el proceso, definimos nuevamente los datos de entrenamiento y test mediante la utilización de TimeSeriesSplit. Volvemos también a definir el modelo dummy y los modelos, esta vez, indicando además los hiperparámetros que deseamos:"
      ]
    },
    {
      "cell_type": "code",
      "execution_count": null,
      "metadata": {
        "id": "_YnjgHq8VMar"
      },
      "outputs": [],
      "source": [
        "# Separar la variable objetivo\n",
        "y = preprocessed_df['1y_sharePrice']\n",
        "X = preprocessed_df.drop('1y_sharePrice', axis=1)\n",
        "\n",
        "# Dividir los datos en conjuntos de entrenamiento y prueba respetando la temporalidad\n",
        "tscv = TimeSeriesSplit(n_splits=5).split(X)\n",
        "\n",
        "# Preparacion del pipeline -> creacion del transformador de columnas\n",
        "numeric_features = X.select_dtypes(include=['int64', 'float64']).columns\n",
        "categorical_features = X.select_dtypes(include=['object', 'string']).columns\n",
        "preprocessor = ColumnTransformer(\n",
        "    transformers=[\n",
        "        ('num', SimpleImputer(strategy='mean'), numeric_features),\n",
        "        ('cat', OneHotEncoder(handle_unknown='ignore'), categorical_features)\n",
        "    ]\n",
        ")"
      ]
    },
    {
      "cell_type": "markdown",
      "metadata": {
        "id": "Cee8DL56h76V"
      },
      "source": [
        "Para entender como funciona el time series split:"
      ]
    },
    {
      "cell_type": "code",
      "execution_count": null,
      "metadata": {
        "colab": {
          "base_uri": "https://localhost:8080/",
          "height": 607
        },
        "id": "oNHTZ1GJiCKg",
        "outputId": "a2a6858c-dac0-4eb7-f0a2-9f1170e0acaa"
      },
      "outputs": [
        {
          "data": {
            "image/png": "[encoded data removed]",
            "text/plain": [
              "<Figure size 1000x600 with 1 Axes>"
            ]
          },
          "metadata": {},
          "output_type": "display_data"
        }
      ],
      "source": [
        "# Suponiendo que X es tu DataFrame y tscv ya está definido como TimeSeriesSplit(n_splits=5)\n",
        "tscv = TimeSeriesSplit(n_splits=5)\n",
        "\n",
        "# Listas para almacenar las cantidades de datos en entrenamiento y prueba\n",
        "train_sizes = []\n",
        "test_sizes = []\n",
        "\n",
        "for train_index, test_index in tscv.split(X):\n",
        "    X_train, X_test = X.iloc[train_index], X.iloc[test_index]\n",
        "    y_train, y_test = y.iloc[train_index], y.iloc[test_index]\n",
        "\n",
        "    # Añadir las cantidades a las listas\n",
        "    train_sizes.append(len(X_train))\n",
        "    test_sizes.append(len(X_test))\n",
        "\n",
        "# Crear el gráfico de barras\n",
        "n_splits = np.arange(1, len(train_sizes) + 1)\n",
        "bar_width = 0.35\n",
        "opacity = 0.8\n",
        "\n",
        "plt.figure(figsize=(10, 6))\n",
        "bar1 = plt.bar(n_splits, train_sizes, bar_width, alpha=opacity, color='blue', label='Train')\n",
        "bar2 = plt.bar(n_splits + bar_width, test_sizes, bar_width, alpha=opacity, color='orange', label='Test')\n",
        "\n",
        "plt.xlabel('Split')\n",
        "plt.ylabel('Cantidad de Datos')\n",
        "plt.title('Cantidad de Datos en Train y Test por Split')\n",
        "plt.xticks(n_splits + bar_width / 2, [f'Split {i}' for i in range(1, 6)])\n",
        "plt.legend()\n",
        "\n",
        "plt.tight_layout()\n",
        "plt.show()\n"
      ]
    },
    {
      "cell_type": "markdown",
      "metadata": {
        "id": "ArLQ-BO3XvQd"
      },
      "source": [
        "### KNN\n",
        "En este modelo, definimos como hiperparámetros el número de vecinos (K: 3, 5 y 7 ya que el default son 5) y la manera de asignar los pesos a los vecinos, por defecto todos iguales (uniform) o en función de la inversa de la distancia (distance)."
      ]
    },
    {
      "cell_type": "code",
      "execution_count": null,
      "metadata": {
        "colab": {
          "base_uri": "https://localhost:8080/"
        },
        "id": "BUJ3fb2LY5Jt",
        "outputId": "2726aa9b-3288-4534-8918-eb6f081fd544"
      },
      "outputs": [
        {
          "name": "stdout",
          "output_type": "stream",
          "text": [
            "KNN - Mejor MAE: 24.75258001072563 - Mejores parámetros: {'regressor__n_neighbors': 7, 'regressor__weights': 'uniform'} - Tiempo de ejecución (s): 1494.990630865097\n"
          ]
        }
      ],
      "source": [
        "model= KNeighborsRegressor()\n",
        "params = {\n",
        "    \"regressor__n_neighbors\": [3, 5, 7],\n",
        "    \"regressor__weights\": ['uniform', 'distance']\n",
        "}\n",
        "\n",
        "start_t = time.time()\n",
        "# Crear una pipeline con el preprocesador y el clasificador\n",
        "pipeline = Pipeline([\n",
        "    ('preprocessor', preprocessor),\n",
        "    ('scaler', MaxAbsScaler()),  # with_mean=False para manejar matrices dispersas\n",
        "    ('regressor', model)\n",
        "])\n",
        "\n",
        "# Ejemplo de uso con GridSearchCV\n",
        "model_cv = GridSearchCV(estimator=pipeline, param_grid=params, cv=tscv, scoring='neg_mean_absolute_error')\n",
        "model_cv.fit(X, y)\n",
        "\n",
        "end_t = time.time()\n",
        "best_score = -model_cv.best_score_\n",
        "best_params = model_cv.best_params_\n",
        "\n",
        "print(f\"KNN - Mejor MAE: {best_score} - Mejores parámetros: {best_params} - Tiempo de ejecución (s): {end_t - start_t}\")"
      ]
    },
    {
      "cell_type": "markdown",
      "metadata": {
        "id": "nLF-4RV2xKvN"
      },
      "source": [
        "El resultado del MAE es ligeramente mejor que empleando los parámetros por defecto. Además, tras comprobar que el mejor método es uniform, y el número de vecinos es el límite superior (7), vamos a probar a buscar con más vecinos, manteniendo los pesos en uniform. A continuación los resultados de las pruebas:\n",
        "\n",
        "1) K: [7, 9, 11, 13] - Mejor MAE: 23.589983941224812 - Mejores parámetros: {'regressor__n_neighbors': 13} - Tiempo de ejecución (s): 1056.656762599945\n",
        "\n",
        "2) K: [15, 17, 19] - Mejor MAE: 21.94548527045306 - Mejores parámetros: {'regressor__n_neighbors': 19} - Tiempo de ejecución (s): 776.1186964511871\n",
        "\n",
        "3) K: [21, 23, 25] - Mejor MAE: 20.952988373895465 - Mejores parámetros: {'regressor__n_neighbors': 25} - Tiempo de ejecución (s): 755.583212852478\n",
        "\n",
        "4) K: [29, 43, 57] - Mejor MAE: 19.370071800892646 - Mejores parámetros: {'regressor__n_neighbors': 57} - Tiempo de ejecución (s): 757.3912222385406\n",
        "\n",
        "5) K: [61, 79, 99] - Mejor MAE: 19.320783351999623 - Mejores parámetros: {'regressor__n_neighbors': 79} - Tiempo de ejecución (s): 771.5440111160278\n",
        "\n",
        "Como podemos comprobar, finalmente hemos llegado a un número de vecinos en el que aumentar el hiperparámetro ya no mejora la precisión. En conclusión, empleando 79 vecinos obtenemos resultados mejores respecto al modelo default, pero no superamos otros modelos como Gradient Boost."
      ]
    },
    {
      "cell_type": "code",
      "execution_count": null,
      "metadata": {
        "colab": {
          "base_uri": "https://localhost:8080/"
        },
        "id": "EP57BSVzxY_x",
        "outputId": "29828b20-b403-4963-8cf1-b66e32ff5a86"
      },
      "outputs": [
        {
          "name": "stdout",
          "output_type": "stream",
          "text": [
            "KNN - Mejor MAE: 19.320783351999623 - Mejores parámetros: {'regressor__n_neighbors': 79} - Tiempo de ejecución (s): 771.5440111160278\n"
          ]
        }
      ],
      "source": [
        "model= KNeighborsRegressor()\n",
        "params = {\n",
        "    \"regressor__n_neighbors\": [61, 79, 99],\n",
        "    # \"regressor__weights\": ['uniform', 'distance']\n",
        "}\n",
        "\n",
        "start_t = time.time()\n",
        "# Crear una pipeline con el preprocesador y el clasificador\n",
        "pipeline = Pipeline([\n",
        "    ('preprocessor', preprocessor),\n",
        "    ('scaler', MaxAbsScaler()),  # with_mean=False para manejar matrices dispersas\n",
        "    ('regressor', model)\n",
        "])\n",
        "\n",
        "# Ejemplo de uso con GridSearchCV\n",
        "model_cv = GridSearchCV(estimator=pipeline, param_grid=params, cv=tscv, scoring='neg_mean_absolute_error')\n",
        "model_cv.fit(X, y)\n",
        "\n",
        "end_t = time.time()\n",
        "best_score = -model_cv.best_score_\n",
        "best_params = model_cv.best_params_\n",
        "\n",
        "print(f\"KNN - Mejor MAE: {best_score} - Mejores parámetros: {best_params} - Tiempo de ejecución (s): {end_t - start_t}\")"
      ]
    },
    {
      "cell_type": "markdown",
      "metadata": {
        "id": "6rMeotwMtrSQ"
      },
      "source": [
        "### Ridge\n",
        "Este modelo cuenta con un hiperparámetro interesante, alpha, el cual controla la regularización aplicada a la regresión lineal. El default es 1.0. En caso de usar alpha = 0 estaríamos recurriendo a una regresión lineal por defecto."
      ]
    },
    {
      "cell_type": "code",
      "execution_count": null,
      "metadata": {
        "colab": {
          "base_uri": "https://localhost:8080/"
        },
        "id": "buqiCzzKt9ZU",
        "outputId": "043e873f-7409-4873-8d33-a6ae55aa41f6"
      },
      "outputs": [
        {
          "name": "stdout",
          "output_type": "stream",
          "text": [
            "Ridge - Mejor MAE: 23.482362468131793 - Mejores parámetros: {'regressor__alpha': 10.0} - Tiempo de ejecución (s): 6.352652311325073\n"
          ]
        }
      ],
      "source": [
        "model= Ridge(random_state=42)\n",
        "params = {\n",
        "    \"regressor__alpha\": [0.1, 1.0, 10.0, 50.0, 100.0]\n",
        "}\n",
        "\n",
        "start_t = time.time()\n",
        "# Crear una pipeline con el preprocesador y el clasificador\n",
        "pipeline = Pipeline([\n",
        "    ('preprocessor', preprocessor),\n",
        "    ('scaler', MaxAbsScaler()),  # with_mean=False para manejar matrices dispersas\n",
        "    ('regressor', model)\n",
        "])\n",
        "\n",
        "# Ejemplo de uso con GridSearchCV\n",
        "model_cv = GridSearchCV(estimator=pipeline, param_grid=params, cv=tscv, scoring='neg_mean_absolute_error')\n",
        "model_cv.fit(X, y)\n",
        "\n",
        "end_t = time.time()\n",
        "best_score = -model_cv.best_score_\n",
        "best_params = model_cv.best_params_\n",
        "\n",
        "print(f\"Ridge - Mejor MAE: {best_score} - Mejores parámetros: {best_params} - Tiempo de ejecución (s): {end_t - start_t}\")"
      ]
    },
    {
      "cell_type": "markdown",
      "metadata": {
        "id": "p5Hnk3YcJKov"
      },
      "source": [
        "Podemos comprobar que toma el alpha = 10 como mejor resultado, probaremos con valores cercanos al mismo para intentar mejorar la precisión del modelo:\n",
        "\n",
        "1) Alpha: [5:15] - Mejor MAE: 23.479211520335973 - Mejores parámetros: {'regressor__alpha': 11} - Tiempo de ejecución (s): 9.899832248687744\n",
        "\n",
        "2) Alpha: [10:12, step 0.2] - Mejor MAE: 23.47908425037538 - Mejores parámetros: {'regressor__alpha': 10.8} - Tiempo de ejecución (s): 10.786231994628906"
      ]
    },
    {
      "cell_type": "code",
      "execution_count": null,
      "metadata": {
        "colab": {
          "base_uri": "https://localhost:8080/"
        },
        "id": "iGKq2YOPJjeE",
        "outputId": "83e9a611-261c-4a80-9ac4-039b46388fa7"
      },
      "outputs": [
        {
          "name": "stdout",
          "output_type": "stream",
          "text": [
            "Ridge - Mejor MAE: 23.47908425037538 - Mejores parámetros: {'regressor__alpha': 10.799999999999997} - Tiempo de ejecución (s): 10.786231994628906\n"
          ]
        }
      ],
      "source": [
        "model= Ridge(random_state=42)\n",
        "params = {\n",
        "    \"regressor__alpha\": [i for i in np.arange(10, 12.2, 0.2)]\n",
        "}\n",
        "\n",
        "start_t = time.time()\n",
        "# Crear una pipeline con el preprocesador y el clasificador\n",
        "pipeline = Pipeline([\n",
        "    ('preprocessor', preprocessor),\n",
        "    ('scaler', MaxAbsScaler()),  # with_mean=False para manejar matrices dispersas\n",
        "    ('regressor', model)\n",
        "])\n",
        "\n",
        "# Ejemplo de uso con GridSearchCV\n",
        "model_cv = GridSearchCV(estimator=pipeline, param_grid=params, cv=tscv, scoring='neg_mean_absolute_error')\n",
        "model_cv.fit(X, y)\n",
        "\n",
        "end_t = time.time()\n",
        "best_score = -model_cv.best_score_\n",
        "best_params = model_cv.best_params_\n",
        "\n",
        "print(f\"Ridge - Mejor MAE: {best_score} - Mejores parámetros: {best_params} - Tiempo de ejecución (s): {end_t - start_t}\")"
      ]
    },
    {
      "cell_type": "markdown",
      "metadata": {
        "id": "hDM1oqFFvNbd"
      },
      "source": [
        "### Lasso\n",
        "En este modelo, también modificamos el parámetro alpha, cuyo valor por defecto también es 1.0."
      ]
    },
    {
      "cell_type": "code",
      "execution_count": null,
      "metadata": {
        "colab": {
          "base_uri": "https://localhost:8080/"
        },
        "id": "KCwipbtBvpzS",
        "outputId": "86c688f4-3d40-4693-a9f0-6fe444fd2e95"
      },
      "outputs": [
        {
          "name": "stdout",
          "output_type": "stream",
          "text": [
            "Lasso - Mejor MAE: 20.782505415454384 - Mejores parámetros: {'regressor__alpha': 0.1} - Tiempo de ejecución (s): 13.463841199874878\n"
          ]
        }
      ],
      "source": [
        "model= Lasso(random_state=42)\n",
        "params = {\n",
        "    \"regressor__alpha\": [0.1, 1.0, 10.0, 50.0, 100.0]\n",
        "}\n",
        "\n",
        "start_t = time.time()\n",
        "# Crear una pipeline con el preprocesador y el clasificador\n",
        "pipeline = Pipeline([\n",
        "    ('preprocessor', preprocessor),\n",
        "    ('scaler', MaxAbsScaler()),  # with_mean=False para manejar matrices dispersas\n",
        "    ('regressor', model)\n",
        "])\n",
        "\n",
        "# Ejemplo de uso con GridSearchCV\n",
        "model_cv = GridSearchCV(estimator=pipeline, param_grid=params, cv=tscv, scoring='neg_mean_absolute_error')\n",
        "model_cv.fit(X, y)\n",
        "\n",
        "end_t = time.time()\n",
        "best_score = -model_cv.best_score_\n",
        "best_params = model_cv.best_params_\n",
        "\n",
        "print(f\"Lasso - Mejor MAE: {best_score} - Mejores parámetros: {best_params} - Tiempo de ejecución (s): {end_t - start_t}\")"
      ]
    },
    {
      "cell_type": "markdown",
      "metadata": {
        "id": "K6bnRC_hLQ5T"
      },
      "source": [
        "En este caso obtenemos como mejor resultado alpha = 0.1; por tanto probaremos con valores cercanos al mismo:\n",
        "\n",
        "1) Alpha: [0.05:1, step 0.05] - Mejor MAE: 20.47836400317349 - Mejores parámetros: {'regressor__alpha': 0.15} - Tiempo de ejecución (s): 64.5625593662262\n"
      ]
    },
    {
      "cell_type": "code",
      "execution_count": null,
      "metadata": {
        "colab": {
          "base_uri": "https://localhost:8080/"
        },
        "id": "29ExlHESLftp",
        "outputId": "22f569fb-5730-4937-846b-bf9bf42c22f2"
      },
      "outputs": [
        {
          "name": "stdout",
          "output_type": "stream",
          "text": [
            "Lasso - Mejor MAE: 20.47836400317349 - Mejores parámetros: {'regressor__alpha': 0.15000000000000002} - Tiempo de ejecución (s): 64.5625593662262\n"
          ]
        }
      ],
      "source": [
        "model= Lasso(random_state=42)\n",
        "params = {\n",
        "    \"regressor__alpha\": [i for i in np.arange(0.05, 1, 0.05)]\n",
        "}\n",
        "\n",
        "start_t = time.time()\n",
        "# Crear una pipeline con el preprocesador y el clasificador\n",
        "pipeline = Pipeline([\n",
        "    ('preprocessor', preprocessor),\n",
        "    ('scaler', MaxAbsScaler()),  # with_mean=False para manejar matrices dispersas\n",
        "    ('regressor', model)\n",
        "])\n",
        "\n",
        "# Ejemplo de uso con GridSearchCV\n",
        "model_cv = GridSearchCV(estimator=pipeline, param_grid=params, cv=tscv, scoring='neg_mean_absolute_error')\n",
        "model_cv.fit(X, y)\n",
        "\n",
        "end_t = time.time()\n",
        "best_score = -model_cv.best_score_\n",
        "best_params = model_cv.best_params_\n",
        "\n",
        "print(f\"Lasso - Mejor MAE: {best_score} - Mejores parámetros: {best_params} - Tiempo de ejecución (s): {end_t - start_t}\")"
      ]
    },
    {
      "cell_type": "markdown",
      "metadata": {
        "id": "vbVckWn1w5qM"
      },
      "source": [
        "### Decision Tree\n",
        "En este modelo trataremos de modificar la profundidad máxima de nodos, siendo por defecto none, y el número mínimo de muestras para dividir un nodo, por defecto 2."
      ]
    },
    {
      "cell_type": "code",
      "execution_count": null,
      "metadata": {
        "colab": {
          "base_uri": "https://localhost:8080/"
        },
        "id": "gCEDTJ4izOkR",
        "outputId": "4eb628ec-72b2-4b7c-e1b2-c90ffe7b9c93"
      },
      "outputs": [
        {
          "name": "stdout",
          "output_type": "stream",
          "text": [
            "Decision Tree - Mejor MAE: 15.702469511701405 - Mejores parámetros: {'regressor__max_depth': 10, 'regressor__min_samples_split': 10} - Tiempo de ejecución (s): 242.01576924324036\n"
          ]
        }
      ],
      "source": [
        "model= DecisionTreeRegressor(random_state=42)\n",
        "params = {\n",
        "    \"regressor__max_depth\": [None, 10, 20, 30],\n",
        "    \"regressor__min_samples_split\": [2, 5, 10]\n",
        "}\n",
        "\n",
        "start_t = time.time()\n",
        "# Crear una pipeline con el preprocesador y el clasificador\n",
        "pipeline = Pipeline([\n",
        "    ('preprocessor', preprocessor),\n",
        "    ('scaler', MaxAbsScaler()),  # with_mean=False para manejar matrices dispersas\n",
        "    ('regressor', model)\n",
        "])\n",
        "\n",
        "# Ejemplo de uso con GridSearchCV\n",
        "model_cv = GridSearchCV(estimator=pipeline, param_grid=params, cv=tscv, scoring='neg_mean_absolute_error')\n",
        "model_cv.fit(X, y)\n",
        "\n",
        "end_t = time.time()\n",
        "best_score = -model_cv.best_score_\n",
        "best_params = model_cv.best_params_\n",
        "\n",
        "print(f\"Decision Tree - Mejor MAE: {best_score} - Mejores parámetros: {best_params} - Tiempo de ejecución (s): {end_t - start_t}\")"
      ]
    },
    {
      "cell_type": "markdown",
      "metadata": {
        "id": "UA9AnZPDPlAe"
      },
      "source": [
        "Como podemos comprobar, en este modelo sí conseguimos obtener mejores resultados directamente respecto al modelo sin hiperparámetros. Vamos a continuar con la investigación para hallar qué valores son los más apropiados:\n",
        "\n",
        "1) depth:[8, 10, 12, 14]; min_samples:[10, 15, 20] -  Decision Tree - Mejor MAE: 15.112113627804977 - Mejores parámetros: {'regressor__max_depth': 8, 'regressor__min_samples_split': 20} - Tiempo de ejecución (s): 45.80090069770813\n",
        "\n",
        "2) depth:[2, 4, 6, 8, 9]; min_samples:[20, 25, 30, 35] - Decision Tree - Mejor MAE: 14.90731928673146 - Mejores parámetros: {'regressor__max_depth': 6, 'regressor__min_samples_split': 35} - Tiempo de ejecución (s): 45.84209442138672\n",
        "\n",
        "3) depth:[5, 6, 7, 8]; min_samples: [32, 35, 38, 41] - Decision Tree - Mejor MAE: 14.846547888327095 - Mejores parámetros: {'regressor__max_depth': 7, 'regressor__min_samples_split': 35} - Tiempo de ejecución (s): 29.170167684555054\n",
        "\n",
        "En conclusión, podemos ver que ha mejorado ligeramente la precisión gracias a una profundidad de 7 y un mínimo de muestras por nodo de 35."
      ]
    },
    {
      "cell_type": "code",
      "execution_count": null,
      "metadata": {
        "colab": {
          "base_uri": "https://localhost:8080/"
        },
        "id": "tXoTVVqIP235",
        "outputId": "f36bfea7-aef2-4292-c460-5cc439619630"
      },
      "outputs": [
        {
          "name": "stdout",
          "output_type": "stream",
          "text": [
            "Decision Tree - Mejor MAE: 14.846547888327095 - Mejores parámetros: {'regressor__max_depth': 7, 'regressor__min_samples_split': 35} - Tiempo de ejecución (s): 36.887702226638794\n"
          ]
        }
      ],
      "source": [
        "model= DecisionTreeRegressor(random_state=42)\n",
        "params = {\n",
        "    \"regressor__max_depth\": [5, 6, 7, 8],\n",
        "    \"regressor__min_samples_split\": [32, 35, 38, 41]\n",
        "}\n",
        "\n",
        "start_t = time.time()\n",
        "# Crear una pipeline con el preprocesador y el clasificador\n",
        "pipeline = Pipeline([\n",
        "    ('preprocessor', preprocessor),\n",
        "    ('scaler', MaxAbsScaler()),  # with_mean=False para manejar matrices dispersas\n",
        "    ('regressor', model)\n",
        "])\n",
        "\n",
        "# Ejemplo de uso con GridSearchCV\n",
        "model_cv = GridSearchCV(estimator=pipeline, param_grid=params, cv=tscv, scoring='neg_mean_absolute_error')\n",
        "model_cv.fit(X, y)\n",
        "\n",
        "end_t = time.time()\n",
        "best_score = -model_cv.best_score_\n",
        "best_params = model_cv.best_params_\n",
        "\n",
        "print(f\"Decision Tree - Mejor MAE: {best_score} - Mejores parámetros: {best_params} - Tiempo de ejecución (s): {end_t - start_t}\")"
      ]
    },
    {
      "cell_type": "markdown",
      "metadata": {
        "id": "w1k0AtdMNRRp"
      },
      "source": [
        "### Random Forest\n",
        "En este modelo los hiperparámetros a modificar son el número de etapas o estimadores, siendo por defecto 100 y obteniendo mejores resultados con mayor número; profundidad máxima, cuyo valor predeterminado es None; y el número mínimo de muestras para dividir un nodo, por defecto 2."
      ]
    },
    {
      "cell_type": "code",
      "execution_count": null,
      "metadata": {
        "id": "lt4UXPSYG8Rn"
      },
      "outputs": [],
      "source": [
        "model= RandomForestRegressor(random_state=42)\n",
        "params = {\n",
        "            \"regressor__n_estimators\": [50, 100],\n",
        "            \"regressor__max_depth\": [None, 10],\n",
        "            \"regressor__min_samples_split\": [2, 5]\n",
        "        }\n",
        "\n",
        "start_t = time.time()\n",
        "# Crear una pipeline con el preprocesador y el clasificador\n",
        "pipeline = Pipeline([\n",
        "    ('preprocessor', preprocessor),\n",
        "    ('scaler', MaxAbsScaler()),  # with_mean=False para manejar matrices dispersas\n",
        "    ('regressor', model)\n",
        "])\n",
        "\n",
        "# Ejemplo de uso con GridSearchCV\n",
        "model_cv = GridSearchCV(estimator=pipeline, param_grid=params, cv=tscv, scoring='neg_mean_absolute_error')\n",
        "model_cv.fit(X, y)\n",
        "\n",
        "end_t = time.time()\n",
        "best_score = -model_cv.best_score_\n",
        "best_params = model_cv.best_params_\n",
        "\n",
        "print(f\"Random Forest - Mejor MAE: {best_score} - Mejores parámetros: {best_params} - Tiempo de ejecución (s): {end_t - start_t}\")"
      ]
    },
    {
      "cell_type": "markdown",
      "metadata": {
        "id": "pLk7yEZBDkbI"
      },
      "source": [
        "Tras realizar un primer acercamiento podemos comprobar que el modelo se beneficia de tener fija la profundidad máxima y que el numero de estimadores, así como de min_samples_split, será beneficioso con valores más grandes.\n",
        "\n",
        "1) Stimators: [100, 150], max_depth: [5, 10, 15], min_samples_split: [5, 7] - Mejor MAE: 13.903560993661774 - Mejores parámetros: {'regressor__max_depth': 10, 'regressor__min_samples_split': 7, 'regressor__n_estimators': 150} - Tiempo de ejecución (s): 3549.9993693828583\n",
        "\n",
        "2) Stimators: [150, 250], max_depth: [7, 10], min_samples_split: [30, 35] - Mejor MAE: 13.799813755483111 - Mejores parámetros: {'regressor__max_depth': 7, 'regressor__min_samples_split': 30, 'regressor__n_estimators': 250} - Tiempo de ejecución (s): 2677.5397398471832\n",
        "\n",
        "3) Stimators: [250], max_depth: [6, 7, 8, 9], min_samples_split: [30] - Mejor MAE: 13.799813755483111 - Mejores parámetros: {'regressor__max_depth': 7, 'regressor__min_samples_split': 30, 'regressor__n_estimators': 250} - Tiempo de ejecución (s): 1457.8478746414185\n",
        "\n",
        "Tras comprobar que la máxima profundidad optima es 7, vamos a comprobar el valor óptimo para n_stimators:\n",
        "\n",
        "4) N_stimators: [250, 350, 450] - Mejor MAE: 13.789408327660007 - Mejores parámetros: {'regressor__max_depth': 7, 'regressor__min_samples_split': 30, 'regressor__n_estimators': 450} - Tiempo de ejecución (s): 1516.2473039627075\n",
        "\n",
        "5) N_stimators: [550:950, step 100] - Mejor MAE: 13.780136100457517 - Mejores parámetros: {'regressor__max_depth': 7, 'regressor__min_samples_split': 30, 'regressor__n_estimators': 850} - Tiempo de ejecución (s): 4954.124004125595\n",
        "\n",
        "Tras haber encontrado un número de estimadores que no mejora más el modelo, queda por encontrar las muestras mínimas necesarias para realizar una división:\n",
        "\n",
        "6) min_samples_split: [35:55, step 5] - Mejor MAE: 13.781047309290622 - Mejores parámetros: {'regressor__max_depth': 7, 'regressor__min_samples_split': 35, 'regressor__n_estimators': 850} - Tiempo de ejecución (s): 5577.264385461807\n",
        "\n",
        "7) min_samples_split: [30:34, step 1] - Mejor MAE: 13.779780090643495 - Mejores parámetros: {'regressor__max_depth': 7, 'regressor__min_samples_split': 31, 'regressor__n_estimators': 850} - Tiempo de ejecución (s): 4285.223886489868"
      ]
    },
    {
      "cell_type": "code",
      "execution_count": null,
      "metadata": {
        "colab": {
          "background_save": true
        },
        "id": "J9IWXcutvIJc",
        "outputId": "1ea9e0ef-895c-4053-b55e-119ed994168c"
      },
      "outputs": [
        {
          "name": "stdout",
          "output_type": "stream",
          "text": [
            "Random forest - Mejor MAE: 13.779780090643495 - Mejores parámetros: {'regressor__max_depth': 7, 'regressor__min_samples_split': 31, 'regressor__n_estimators': 850} - Tiempo de ejecución (s): 4285.223886489868\n"
          ]
        }
      ],
      "source": [
        "model= RandomForestRegressor(random_state=42)\n",
        "params = {\n",
        "            \"regressor__n_estimators\": [850],\n",
        "            \"regressor__max_depth\": [7],\n",
        "            \"regressor__min_samples_split\": [i for i in range(30, 34, 1)]\n",
        "        }\n",
        "\n",
        "start_t = time.time()\n",
        "# Crear una pipeline con el preprocesador y el clasificador\n",
        "pipeline = Pipeline([\n",
        "    ('preprocessor', preprocessor),\n",
        "    ('scaler', MaxAbsScaler()),  # with_mean=False para manejar matrices dispersas\n",
        "    ('regressor', model)\n",
        "])\n",
        "\n",
        "# Ejemplo de uso con GridSearchCV\n",
        "model_cv = GridSearchCV(estimator=pipeline, param_grid=params, cv=tscv, scoring='neg_mean_absolute_error')\n",
        "model_cv.fit(X, y)\n",
        "\n",
        "end_t = time.time()\n",
        "best_score = -model_cv.best_score_\n",
        "best_params = model_cv.best_params_\n",
        "\n",
        "print(f\"Random forest - Mejor MAE: {best_score} - Mejores parámetros: {best_params} - Tiempo de ejecución (s): {end_t - start_t}\")"
      ]
    },
    {
      "cell_type": "markdown",
      "metadata": {
        "id": "JjFKhu7uNZYD"
      },
      "source": [
        "### Gradient Boosting\n",
        "\n",
        "En este caso los hiperparámetros a modificar son también el número de etapas o estimadores, siendo por defecto 100; la profundidad máxima, siendo por defecto 3; y la tasa de aprendizaje, por defecto 0.1 . En este método el parámetro más determinante es el learning rate, por lo tanto, será el primero en ser ajustado."
      ]
    },
    {
      "cell_type": "code",
      "execution_count": null,
      "metadata": {
        "colab": {
          "base_uri": "https://localhost:8080/"
        },
        "id": "cMIsRHGUNrNg",
        "outputId": "1d976f73-7d95-4848-b050-da7b27412c91"
      },
      "outputs": [
        {
          "name": "stdout",
          "output_type": "stream",
          "text": [
            "Gradient Boosting - Mejor MAE: 13.800843339173394 - Mejores parámetros: {'regressor__learning_rate': 0.1, 'regressor__max_depth': 5, 'regressor__n_estimators': 100} - Tiempo de ejecución (s): 5803.383812665939\n"
          ]
        }
      ],
      "source": [
        "model= GradientBoostingRegressor(random_state=42)\n",
        "params = {\n",
        "    \"regressor__n_estimators\": [100, 200, 300],\n",
        "    \"regressor__learning_rate\": [0.01, 0.1, 0.2],\n",
        "    \"regressor__max_depth\": [3, 5, 7]\n",
        "}\n",
        "\n",
        "start_t = time.time()\n",
        "# Crear una pipeline con el preprocesador y el clasificador\n",
        "pipeline = Pipeline([\n",
        "    ('preprocessor', preprocessor),\n",
        "    ('scaler', MaxAbsScaler()),  # with_mean=False para manejar matrices dispersas\n",
        "    ('regressor', model)\n",
        "])\n",
        "\n",
        "# Ejemplo de uso con GridSearchCV\n",
        "model_cv = GridSearchCV(estimator=pipeline, param_grid=params, cv=tscv, scoring='neg_mean_absolute_error')\n",
        "model_cv.fit(X, y)\n",
        "\n",
        "end_t = time.time()\n",
        "best_score = -model_cv.best_score_\n",
        "best_params = model_cv.best_params_\n",
        "\n",
        "print(f\"Gradient Boosting - Mejor MAE: {best_score} - Mejores parámetros: {best_params} - Tiempo de ejecución (s): {end_t - start_t}\")"
      ]
    },
    {
      "cell_type": "markdown",
      "metadata": {
        "id": "J00JA2WKuQFw"
      },
      "source": [
        "Como podemos comprobar, el tiempo de entrenamiento ha sido muy largo y no hemos obtenido resultados mejores en comparación al modelo sin hiperparametrizar (nota: como ha sido comentado al principio esto puede ser causado por la manera de calcular la precisión que tiene el GridSearch, no indica directamente que ofrezca peor precisión). Por tanto, a continuación probaremos a modificar únicamente el learning rate:\n",
        "\n",
        "1) L.Rate: [0.05:0.15, step 0.01], stimators: 100, depth: 5 - Mejor MAE: 13.799972117504279 - Mejores parámetros: {'regressor__learning_rate': 0.07, 'regressor__max_depth': 5, 'regressor__n_estimators': 100} - Tiempo de ejecución (s): 1079.6079154014587\n",
        "\n",
        "Hemos conseguido un Learning Rate dentro del rango estudiado y tampoco ha mejorado, por tanto, probaremos a estudiar el cambio en n_stimators:\n",
        "\n",
        "2) L.Rate: [0.07:0.11, step 0.01], stimators: [50, 100, 150], depth: 5 Mejor MAE: 13.782845738512842 - Mejores parámetros: {'regressor__learning_rate': 0.07, 'regressor__max_depth': 5, 'regressor__n_estimators': 150} - Tiempo de ejecución (s): 1327.3425948619843\n",
        "\n",
        "3) L.Rate: [0.05, 0.07, 0.10], stimators: [150, 200, 250], depth: 5 - Mejor MAE: 13.782845738512842 - Mejores parámetros: {'regressor__learning_rate': 0.07, 'regressor__max_depth': 5, 'regressor__n_estimators': 150} - Tiempo de ejecución (s): 1891.776706457138\n",
        "\n",
        "Como podemos ver, la hiperparametrización no nos está dando mejores resultados, vamos a probar con valores más cercanos al learning rate y estimadores obtenidos hasta ahora gracias al GridSearch (0.07 y 150), además vamos a emplear los valores que encontramos útiles en decision tree regressor para comprobar su efectividad.\n",
        "\n",
        "4) Mejor MAE: 13.905685342257922 - Mejores parámetros: {'regressor__learning_rate': 0.065, 'regressor__max_depth': 7, 'regressor__min_samples_split': 35, 'regressor__n_estimators': 125} - Tiempo de ejecución (s): 1993.7523519992828\n",
        "\n",
        "Debido a que tampoco mejora, probamos con valores cercanos a los hayados anteriormente en L.rate y n_stimators, 0.07 y 150 respectivamente:\n",
        "\n",
        "5) n_stimators: [125:165, step 5], l.rate: [0.06:0.08, step 0.005] - Mejor MAE: 14.008901588159683 - Mejores parámetros: {'regressor__learning_rate': 0.07500000000000001, 'regressor__n_estimators': 155} - Tiempo de ejecución (s): 3616.052302122116\n",
        "\n",
        "6) n_stimators: [145:165, step 5], l.rate: [0.075:0.095, step 0.005] - Mejor MAE: 14.013962961008508 - Mejores parámetros: {'regressor__learning_rate': 0.075, 'regressor__n_estimators': 155} - Tiempo de ejecución (s): 2071.4322476387024\n"
      ]
    },
    {
      "cell_type": "code",
      "execution_count": null,
      "metadata": {
        "colab": {
          "base_uri": "https://localhost:8080/"
        },
        "id": "bHmjQFHxAWcE",
        "outputId": "d1ab89a1-8c80-4525-d66f-b0ef557679a8"
      },
      "outputs": [
        {
          "name": "stdout",
          "output_type": "stream",
          "text": [
            "Gradient Boosting - Mejor MAE: 14.013962961008508 - Mejores parámetros: {'regressor__learning_rate': 0.075, 'regressor__n_estimators': 155} - Tiempo de ejecución (s): 2071.4322476387024\n"
          ]
        }
      ],
      "source": [
        "model= GradientBoostingRegressor(random_state=42)\n",
        "params = {\n",
        "    \"regressor__n_estimators\": [i for i in range(145, 165, 5)],\n",
        "    \"regressor__learning_rate\": [i for i in np.arange(0.075, 0.095, 0.005)]\n",
        "}\n",
        "\n",
        "start_t = time.time()\n",
        "# Crear una pipeline con el preprocesador y el clasificador\n",
        "pipeline = Pipeline([\n",
        "    ('preprocessor', preprocessor),\n",
        "    ('scaler', MaxAbsScaler()),  # with_mean=False para manejar matrices dispersas\n",
        "    ('regressor', model)\n",
        "])\n",
        "\n",
        "# Ejemplo de uso con GridSearchCV\n",
        "model_cv = GridSearchCV(estimator=pipeline, param_grid=params, cv=tscv, scoring='neg_mean_absolute_error')\n",
        "model_cv.fit(X, y)\n",
        "\n",
        "end_t = time.time()\n",
        "best_score = -model_cv.best_score_\n",
        "best_params = model_cv.best_params_\n",
        "\n",
        "print(f\"Gradient Boosting - Mejor MAE: {best_score} - Mejores parámetros: {best_params} - Tiempo de ejecución (s): {end_t - start_t}\")"
      ]
    },
    {
      "cell_type": "markdown",
      "metadata": {
        "id": "vS3pPdrZQZZ0"
      },
      "source": [
        "### Adaboost\n",
        "\n",
        "En este modelo como en Gradient Boosting tenemos número de estimadores y tasa de aprendizaje, siendo por defecto 50 y 1.0 respectivamente."
      ]
    },
    {
      "cell_type": "code",
      "execution_count": null,
      "metadata": {
        "colab": {
          "background_save": true
        },
        "id": "gLLXBsDnSivd",
        "outputId": "394c3537-ca45-4d0c-c150-631dbe162c4a"
      },
      "outputs": [
        {
          "name": "stdout",
          "output_type": "stream",
          "text": [
            "Adaboost - Mejor MAE: 15.79429157011217 - Mejores parámetros: {'regressor__learning_rate': 0.01, 'regressor__n_estimators': 50} - Tiempo de ejecución (s): 560.0575559139252\n"
          ]
        }
      ],
      "source": [
        "model= AdaBoostRegressor(random_state=42)\n",
        "params = {\n",
        "    \"regressor__n_estimators\": [50, 100, 200],\n",
        "    \"regressor__learning_rate\": [0.01, 0.1, 1.0]\n",
        "}\n",
        "\n",
        "start_t = time.time()\n",
        "# Crear una pipeline con el preprocesador y el clasificador\n",
        "pipeline = Pipeline([\n",
        "    ('preprocessor', preprocessor),\n",
        "    ('scaler', MaxAbsScaler()),  # with_mean=False para manejar matrices dispersas\n",
        "    ('regressor', model)\n",
        "])\n",
        "\n",
        "# Ejemplo de uso con GridSearchCV\n",
        "model_cv = GridSearchCV(estimator=pipeline, param_grid=params, cv=tscv, scoring='neg_mean_absolute_error')\n",
        "model_cv.fit(X, y)\n",
        "\n",
        "end_t = time.time()\n",
        "best_score = -model_cv.best_score_\n",
        "best_params = model_cv.best_params_\n",
        "\n",
        "print(f\"Adaboost - Mejor MAE: {best_score} - Mejores parámetros: {best_params} - Tiempo de ejecución (s): {end_t - start_t}\")"
      ]
    },
    {
      "cell_type": "markdown",
      "metadata": {
        "id": "c_DPY3yqF9q4"
      },
      "source": [
        "En este modelo hemos mejorado los resultados que nos ofrecía el modelo sin parametrizar, sin embargo, todavía podemos mejorarlos ya que como puede verse, hemos empleado el límite inferior en ambos parámetros.\n",
        "\n",
        "1) n_timators: [20:50, step 5], l.rate: [0.005:0.03, step 0.005] - Mejor MAE: 15.710300094650691 - Mejores parámetros: {'regressor__learning_rate': 0.025, 'regressor__n_estimators': 25} - Tiempo de ejecución (s): 1061.4149310588837\n",
        "\n",
        "Como podemos observar, los parámetros obtenidos ya no se encuentran en los límites de sus rangos, por tanto, podemos frenar ya la búsqueda."
      ]
    },
    {
      "cell_type": "code",
      "execution_count": null,
      "metadata": {
        "colab": {
          "base_uri": "https://localhost:8080/"
        },
        "id": "alINsn9lF9G8",
        "outputId": "0f28e603-14ba-4573-fbdb-082ef88bf4a8"
      },
      "outputs": [
        {
          "name": "stdout",
          "output_type": "stream",
          "text": [
            "Adaboost - Mejor MAE: 15.710300094650691 - Mejores parámetros: {'regressor__learning_rate': 0.025, 'regressor__n_estimators': 25} - Tiempo de ejecución (s): 1061.4149310588837\n"
          ]
        }
      ],
      "source": [
        "model= AdaBoostRegressor(random_state=42)\n",
        "params = {\n",
        "    \"regressor__n_estimators\": [i for i in range(20, 55, 5)],\n",
        "    \"regressor__learning_rate\": [i for i in np.arange(0.005, 0.03, 0.005)]\n",
        "}\n",
        "\n",
        "start_t = time.time()\n",
        "# Crear una pipeline con el preprocesador y el clasificador\n",
        "pipeline = Pipeline([\n",
        "    ('preprocessor', preprocessor),\n",
        "    ('scaler', MaxAbsScaler()),  # with_mean=False para manejar matrices dispersas\n",
        "    ('regressor', model)\n",
        "])\n",
        "\n",
        "# Ejemplo de uso con GridSearchCV\n",
        "model_cv = GridSearchCV(estimator=pipeline, param_grid=params, cv=tscv, scoring='neg_mean_absolute_error')\n",
        "model_cv.fit(X, y)\n",
        "\n",
        "end_t = time.time()\n",
        "best_score = -model_cv.best_score_\n",
        "best_params = model_cv.best_params_\n",
        "\n",
        "print(f\"Adaboost - Mejor MAE: {best_score} - Mejores parámetros: {best_params} - Tiempo de ejecución (s): {end_t - start_t}\")"
      ]
    },
    {
      "cell_type": "markdown",
      "metadata": {
        "id": "U2POlWb1S8Fz"
      },
      "source": [
        "### SVR\n",
        "\n",
        "En este modelo tenemos como hiperparámetros principales el kernel, por defecto rbf; y el parámetro de regularización C, por defecto 1.0."
      ]
    },
    {
      "cell_type": "code",
      "execution_count": null,
      "metadata": {
        "colab": {
          "base_uri": "https://localhost:8080/"
        },
        "id": "cRKl9uUZS-aP",
        "outputId": "111e6d67-1e5d-483b-a9f5-ec86a52fc3cb"
      },
      "outputs": [
        {
          "name": "stdout",
          "output_type": "stream",
          "text": [
            "SVR - Mejor MAE: 20.353091051554483 - Mejores parámetros: {'regressor__C': 10, 'regressor__kernel': 'linear'} - Tiempo de ejecución (s): 4015.4659581184387\n"
          ]
        }
      ],
      "source": [
        "model= SVR()\n",
        "params = {\n",
        "    \"regressor__C\": [0.1, 1, 10],\n",
        "    \"regressor__kernel\": ['linear', 'rbf', 'sigmoid', 'poly']\n",
        "}\n",
        "\n",
        "start_t = time.time()\n",
        "# Crear una pipeline con el preprocesador y el clasificador\n",
        "pipeline = Pipeline([\n",
        "    ('preprocessor', preprocessor),\n",
        "    ('scaler', MaxAbsScaler()),  # with_mean=False para manejar matrices dispersas\n",
        "    ('regressor', model)\n",
        "])\n",
        "\n",
        "# Ejemplo de uso con GridSearchCV\n",
        "model_cv = GridSearchCV(estimator=pipeline, param_grid=params, cv=tscv, scoring='neg_mean_absolute_error')\n",
        "model_cv.fit(X, y)\n",
        "\n",
        "end_t = time.time()\n",
        "best_score = -model_cv.best_score_\n",
        "best_params = model_cv.best_params_\n",
        "\n",
        "print(f\"SVR - Mejor MAE: {best_score} - Mejores parámetros: {best_params} - Tiempo de ejecución (s): {end_t - start_t}\")"
      ]
    },
    {
      "cell_type": "markdown",
      "metadata": {
        "id": "BpDvwQEnxfs9"
      },
      "source": [
        "Como podemos comprobar, la máquina de vector de soporte con un kernel linear nos da resultados mejores que en el modelo por defecto. A continuación, estudiaremos los distintos valores de C para este kernel:\n",
        "\n",
        "1) Kernel: ['linear'], C: [5:15] - Mejor MAE: 20.353091051554483 - Mejores parámetros: {'regressor__C': 10, 'regressor__kernel': 'linear'} - Tiempo de ejecución (s): 3852.575447320938"
      ]
    },
    {
      "cell_type": "code",
      "execution_count": null,
      "metadata": {
        "colab": {
          "base_uri": "https://localhost:8080/"
        },
        "id": "7eWLZQMaxYCW",
        "outputId": "a1e22c4b-fc1d-4801-dcdf-b06a49fcf74b"
      },
      "outputs": [
        {
          "name": "stdout",
          "output_type": "stream",
          "text": [
            "SVR - Mejor MAE: 20.353091051554483 - Mejores parámetros: {'regressor__C': 10, 'regressor__kernel': 'linear'} - Tiempo de ejecución (s): 3852.575447320938\n"
          ]
        }
      ],
      "source": [
        "model= SVR()\n",
        "params = {\n",
        "    \"regressor__C\": [i for i in range(5, 16)],\n",
        "    \"regressor__kernel\": ['linear']\n",
        "}\n",
        "\n",
        "start_t = time.time()\n",
        "# Crear una pipeline con el preprocesador y el clasificador\n",
        "pipeline = Pipeline([\n",
        "    ('preprocessor', preprocessor),\n",
        "    ('scaler', MaxAbsScaler()),  # with_mean=False para manejar matrices dispersas\n",
        "    ('regressor', model)\n",
        "])\n",
        "\n",
        "# Ejemplo de uso con GridSearchCV\n",
        "model_cv = GridSearchCV(estimator=pipeline, param_grid=params, cv=tscv, scoring='neg_mean_absolute_error')\n",
        "model_cv.fit(X, y)\n",
        "\n",
        "end_t = time.time()\n",
        "best_score = -model_cv.best_score_\n",
        "best_params = model_cv.best_params_\n",
        "\n",
        "print(f\"SVR - Mejor MAE: {best_score} - Mejores parámetros: {best_params} - Tiempo de ejecución (s): {end_t - start_t}\")"
      ]
    },
    {
      "cell_type": "markdown",
      "metadata": {
        "id": "BDd5xloET2hS"
      },
      "source": [
        "### XGBoost\n",
        "\n",
        "En este modelo contamos con parámetros muy similares a aquellos vistos anteriormente en otros ensenbles, 'eta' sigue refiriendose a la tasa de aprendizaje."
      ]
    },
    {
      "cell_type": "code",
      "execution_count": null,
      "metadata": {
        "colab": {
          "base_uri": "https://localhost:8080/"
        },
        "id": "h-S3qYflUACY",
        "outputId": "c26fbd88-f656-4a04-e295-11922ed46451"
      },
      "outputs": [
        {
          "name": "stdout",
          "output_type": "stream",
          "text": [
            "XGBoost - Mejor MAE: 14.024119988234194 - Mejores parámetros: {'regressor__eta': 0.1, 'regressor__max_depth': 5, 'regressor__n_estimators': 100} - Tiempo de ejecución (s): 342.81867265701294\n"
          ]
        }
      ],
      "source": [
        "model= XGBRegressor(random_state=42)\n",
        "params = {\n",
        "    \"regressor__n_estimators\": [100, 200, 300],\n",
        "    \"regressor__eta\": [0.01, 0.1, 0.2],\n",
        "    \"regressor__max_depth\": [3, 5, 7]\n",
        "}\n",
        "\n",
        "start_t = time.time()\n",
        "# Crear una pipeline con el preprocesador y el clasificador\n",
        "pipeline = Pipeline([\n",
        "    ('preprocessor', preprocessor),\n",
        "    ('scaler', MaxAbsScaler()),  # with_mean=False para manejar matrices dispersas\n",
        "    ('regressor', model)\n",
        "])\n",
        "\n",
        "# Ejemplo de uso con GridSearchCV\n",
        "model_cv = GridSearchCV(estimator=pipeline, param_grid=params, cv=tscv, scoring='neg_mean_absolute_error')\n",
        "model_cv.fit(X, y)\n",
        "\n",
        "end_t = time.time()\n",
        "best_score = -model_cv.best_score_\n",
        "best_params = model_cv.best_params_\n",
        "\n",
        "print(f\"XGBoost - Mejor MAE: {best_score} - Mejores parámetros: {best_params} - Tiempo de ejecución (s): {end_t - start_t}\")"
      ]
    },
    {
      "cell_type": "markdown",
      "metadata": {
        "id": "JkmmPP_8iU-6"
      },
      "source": [
        "Como podemos ver, hemos podido encontrar ya valores de 'eta' y 'max_depth' cercanos al óptimo. Por tanto continuaremos la búsqueda por valores cercanos a los encontrados:\n",
        "\n",
        "1) n_stimators: [50:140, step 10], eta: [0.05:0.15, step 0.01], max_depth: [4, 5, 6] - Mejor MAE: 13.946221835027035 - Mejores parámetros: {'regressor__eta': 0.13, 'regressor__max_depth': 4, 'regressor__n_estimators': 100} - Tiempo de ejecución (s): 1850.7177209854126"
      ]
    },
    {
      "cell_type": "code",
      "execution_count": null,
      "metadata": {
        "colab": {
          "background_save": true
        },
        "id": "kVmKMgv7hi_l",
        "outputId": "b7bba892-533e-4906-c968-ca112e4a62ad"
      },
      "outputs": [
        {
          "name": "stdout",
          "output_type": "stream",
          "text": [
            "XGBoost - Mejor MAE: 13.946221835027035 - Mejores parámetros: {'regressor__eta': 0.13, 'regressor__max_depth': 4, 'regressor__n_estimators': 100} - Tiempo de ejecución (s): 1850.7177209854126\n"
          ]
        }
      ],
      "source": [
        "model= XGBRegressor(random_state=42)\n",
        "params = {\n",
        "    \"regressor__n_estimators\": [i for i in range(50, 150, 10)],\n",
        "    \"regressor__eta\": [i for i in np.arange(0.05, 0.16, 0.01)],\n",
        "    \"regressor__max_depth\": [4, 5, 6]\n",
        "}\n",
        "\n",
        "start_t = time.time()\n",
        "# Crear una pipeline con el preprocesador y el clasificador\n",
        "pipeline = Pipeline([\n",
        "    ('preprocessor', preprocessor),\n",
        "    ('scaler', MaxAbsScaler()),  # with_mean=False para manejar matrices dispersas\n",
        "    ('regressor', model)\n",
        "])\n",
        "\n",
        "# Ejemplo de uso con GridSearchCV\n",
        "model_cv = GridSearchCV(estimator=pipeline, param_grid=params, cv=tscv, scoring='neg_mean_absolute_error')\n",
        "model_cv.fit(X, y)\n",
        "\n",
        "end_t = time.time()\n",
        "best_score = -model_cv.best_score_\n",
        "best_params = model_cv.best_params_\n",
        "\n",
        "print(f\"XGBoost - Mejor MAE: {best_score} - Mejores parámetros: {best_params} - Tiempo de ejecución (s): {end_t - start_t}\")"
      ]
    },
    {
      "cell_type": "markdown",
      "metadata": {
        "id": "VK3YecFmWcPd"
      },
      "source": [
        "### LightGBM\n",
        "\n",
        "Este modelo cuenta con un funcionamiento y una hiperparametrización igual a la de otros ensembles."
      ]
    },
    {
      "cell_type": "code",
      "execution_count": null,
      "metadata": {
        "id": "z-B9tjeOXDZO"
      },
      "outputs": [],
      "source": [
        "model= LGBMRegressor(random_state=42, verbose=-1)\n",
        "params = {\n",
        "    \"regressor__n_estimators\": [100, 200, 300],\n",
        "    \"regressor__learning_rate\": [0.01, 0.1, 0.2],\n",
        "    \"regressor__max_depth\": [-1, 5, 10]\n",
        "}\n",
        "\n",
        "start_t = time.time()\n",
        "# Crear una pipeline con el preprocesador y el clasificador\n",
        "pipeline = Pipeline([\n",
        "    ('preprocessor', preprocessor),\n",
        "    ('scaler', MaxAbsScaler()),  # with_mean=False para manejar matrices dispersas\n",
        "    ('regressor', model)\n",
        "])\n",
        "\n",
        "# Ejemplo de uso con GridSearchCV\n",
        "model_cv = GridSearchCV(estimator=pipeline, param_grid=params, cv=tscv, scoring='neg_mean_absolute_error')\n",
        "model_cv.fit(X, y)\n",
        "\n",
        "end_t = time.time()\n",
        "best_score = -model_cv.best_score_\n",
        "best_params = model_cv.best_params_\n",
        "\n",
        "print(f\"LightGBM - Mejor MAE: {best_score} - Mejores parámetros: {best_params} - Tiempo de ejecución (s): {end_t - start_t}\")"
      ]
    },
    {
      "cell_type": "markdown",
      "metadata": {
        "id": "_obVNffRyQW7"
      },
      "source": [
        "Como podemos comprobar, LightGBM entrena muy rápido los modelos, por tanto podemos probar más combinaciones de hiperparámetros en menor tiempo. A continuación probaremos a utilizar rangos cercanos a los resultados ya obtenidos:\n",
        "\n",
        "1) n_stimators: [300, 400, 500], l.rate: [0.005:0.3, 0.05] m.depth: [3, 7] - Mejor MAE: 14.12272114483336 - Mejores parámetros: {'regressor__learning_rate': 0.055, 'regressor__max_depth': 3, 'regressor__n_estimators': 300} - Tiempo de ejecución (s): 586.1843998432159\n",
        "\n",
        "2) n_stimators: [1:300, step 10], l.rate: [0.005:0.3, step 0.05] m.depth: [3:7] - Mejor MAE: 13.93029561254221 - Mejores parámetros: {'regressor__learning_rate': 0.055, 'regressor__max_depth': 4, 'regressor__n_estimators': 131} - Tiempo de ejecución (s): 2826.687821149826\n",
        "\n",
        "\n",
        "\n"
      ]
    },
    {
      "cell_type": "code",
      "execution_count": null,
      "metadata": {
        "colab": {
          "base_uri": "https://localhost:8080/"
        },
        "id": "JUu1FgdyyhON",
        "outputId": "ed2d37d1-f60c-451c-dc07-ba05ad131a36"
      },
      "outputs": [
        {
          "name": "stdout",
          "output_type": "stream",
          "text": [
            "LightGBM - Mejor MAE: 13.93029561254221 - Mejores parámetros: {'regressor__learning_rate': 0.055, 'regressor__max_depth': 4, 'regressor__n_estimators': 131} - Tiempo de ejecución (s): 490.8651020526886\n"
          ]
        }
      ],
      "source": [
        "model= LGBMRegressor(random_state=42, verbose=-1)\n",
        "params = {\n",
        "    \"regressor__n_estimators\": [i for i in range(1, 300, 10)],\n",
        "    \"regressor__learning_rate\": [i for i in np.arange(0.005, 0.3, 0.05)],\n",
        "    \"regressor__max_depth\": [4]\n",
        "}\n",
        "\n",
        "start_t = time.time()\n",
        "# Crear una pipeline con el preprocesador y el clasificador\n",
        "pipeline = Pipeline([\n",
        "    ('preprocessor', preprocessor),\n",
        "    ('scaler', MaxAbsScaler()),  # with_mean=False para manejar matrices dispersas\n",
        "    ('regressor', model)\n",
        "])\n",
        "\n",
        "# Ejemplo de uso con GridSearchCV\n",
        "model_cv = GridSearchCV(estimator=pipeline, param_grid=params, cv=tscv, scoring='neg_mean_absolute_error')\n",
        "model_cv.fit(X, y)\n",
        "\n",
        "end_t = time.time()\n",
        "best_score = -model_cv.best_score_\n",
        "best_params = model_cv.best_params_\n",
        "\n",
        "print(f\"LightGBM - Mejor MAE: {best_score} - Mejores parámetros: {best_params} - Tiempo de ejecución (s): {end_t - start_t}\")"
      ]
    },
    {
      "cell_type": "markdown",
      "metadata": {
        "id": "8jJDu5rjJgF7"
      },
      "source": [
        "### Resultados GridSearch\n",
        "\n",
        "Tras llevar a cabo la hiperparametrización de los diferentes modelos hemos conseguido averiguar de qué manera optimizar cada uno de los métodos de aprendizaje supervisado, a continuación se muestran los valores idóneos para cada configuración:\n",
        "\n",
        "| Modelos          | Parámetros                              | MAE  |\n",
        "|------------------|-----------------------------------------|------|\n",
        "| KNN              | 'n_neighbors': 79, 'weights': uniform   |19.32 |\n",
        "| Ridge            | 'alpha': 10.8                           |23.47 |\n",
        "| Lasso            | 'alpha': 0.15                           |20.47 |\n",
        "| Decision Tree    | 'max_depth': 7, 'min_samples_split': 35 |14.84 |\n",
        "| Random Forest    | 'max_depth': 7, 'min_samples_split': 31, 'n_estimators': 850                                                          |13.78 |\n",
        "| GradientBoosting | 'learning_rate': 0.07, 'n_estimators': 150, 'max_depth': 5                                                            |13.78 |\n",
        "| Adaboost         | 'learning_rate': 0.01, 'n_estimators': 5|15.71 |\n",
        "| SVR              | 'C': 10, 'kernel': 'linear'             |20.35 |\n",
        "| XGBoost          | 'eta': 0.13, 'max_depth': 4, 'n_estimators': 100 |13.95 |\n",
        "| LightGBM         | 'learning_rate': 0.055, 'n_estimators': 131, 'max_depth': 4 |13.93 |\n",
        "\n",
        "\n",
        "\n"
      ]
    },
    {
      "cell_type": "markdown",
      "metadata": {
        "id": "dAX_CuZ8HlpF"
      },
      "source": [
        "## Modelos básicos vs modelos parametrizados\n",
        "\n",
        "Tras haber realizado una sólida investigación para encontrar los valores más idóneos para cada modelo, procedemos a ejecutarlos y evaluarlos en las mismas condiciones que los modelos por defecto, de esta manera podremos conocer cual es el modelo que mejor se comporta ante nuestro problema."
      ]
    },
    {
      "cell_type": "code",
      "execution_count": null,
      "metadata": {
        "colab": {
          "background_save": true,
          "base_uri": "https://localhost:8080/"
        },
        "id": "gUvvnoR5SooZ",
        "outputId": "b30f4d97-5c26-4431-bc5a-f4f79291e5d0"
      },
      "outputs": [
        {
          "name": "stdout",
          "output_type": "stream",
          "text": [
            "Dummy regressor MAE: 34.17534043736865\n",
            "Media de precios: 38.954854550048125\n",
            "knn MAE: 14.549688493733028  --  mejora respecto a dummy: 57.42635389280911  --  Tiempo de ejecucion (s): 84.76317024230957\n",
            "ridge MAE: 18.183574123743995  --  mejora respecto a dummy: 46.79329045143508  --  Tiempo de ejecucion (s): 0.13534832000732422\n",
            "lasso MAE: 17.538423110148763  --  mejora respecto a dummy: 48.681058079610025  --  Tiempo de ejecucion (s): 0.9955503940582275\n",
            "decision_tree MAE: 13.461678983288872  --  mejora respecto a dummy: 60.609963760392134  --  Tiempo de ejecucion (s): 0.5228710174560547\n",
            "random_forest MAE: 12.520038380374185  --  mejora respecto a dummy: 63.36528555342703  --  Tiempo de ejecucion (s): 264.6329207420349\n",
            "gradient_boosting MAE: 12.380787740670016  --  mejora respecto a dummy: 63.77274496106443  --  Tiempo de ejecucion (s): 43.56918025016785\n",
            "adaboost MAE: 14.978954923640194  --  mejora respecto a dummy: 56.17028321607698  --  Tiempo de ejecucion (s): 1.0704939365386963\n",
            "svr MAE: 16.02732377252813  --  mejora respecto a dummy: 53.10266535047232  --  Tiempo de ejecucion (s): 106.84106707572937\n",
            "xgboost MAE: 12.740332066777963  --  mejora respecto a dummy: 62.720687186345664  --  Tiempo de ejecucion (s): 0.6217772960662842\n",
            "lightgbm MAE: 12.56857430354141  --  mejora respecto a dummy: 63.22326524712994  --  Tiempo de ejecucion (s): 0.5380699634552002\n"
          ]
        }
      ],
      "source": [
        "# Separar la variable objetivo\n",
        "y = preprocessed_df['1y_sharePrice']\n",
        "X = preprocessed_df.drop('1y_sharePrice', axis=1)\n",
        "\n",
        "# Dividir los datos en conjuntos de entrenamiento y prueba respetando la temporalidad\n",
        "tscv = TimeSeriesSplit(n_splits=5)\n",
        "for train_index, test_index in tscv.split(X):\n",
        "    X_train, X_test = X.iloc[train_index], X.iloc[test_index]\n",
        "    y_train, y_test = y.iloc[train_index], y.iloc[test_index]\n",
        "\n",
        "# Creamos un modelo dummy para usar como benchmark\n",
        "dummy_regr = DummyRegressor(strategy=\"mean\")\n",
        "dummy_regr.fit(X_train, y_train)\n",
        "y_dummy_pred = dummy_regr.predict(X_test)\n",
        "dummy_MAE = metrics.mean_absolute_error(y_test, y_dummy_pred)\n",
        "print(f\"Dummy regressor MAE: {dummy_MAE}\")\n",
        "\n",
        "# Preparacion del pipeline -> creacion del transformador de columnas\n",
        "numeric_features = X.select_dtypes(include=['int64', 'float64']).columns\n",
        "categorical_features = X.select_dtypes(include=['object', 'string']).columns\n",
        "preprocessor = ColumnTransformer(\n",
        "    transformers=[\n",
        "        ('num', SimpleImputer(strategy='mean'), numeric_features),\n",
        "        ('cat', OneHotEncoder(handle_unknown='ignore'), categorical_features)\n",
        "    ]\n",
        ")\n",
        "\n",
        "# Diccionario de modelos a desarrollar\n",
        "models = {\n",
        "    \"knn\": KNeighborsRegressor(n_neighbors=79),\n",
        "    \"ridge\": Ridge(alpha=10.8, random_state=42),\n",
        "    \"lasso\": Lasso(alpha=0.15, random_state=42),\n",
        "    \"decision_tree\": DecisionTreeRegressor(max_depth=7, min_samples_split=35, random_state=42),\n",
        "    \"random_forest\": RandomForestRegressor(max_depth=7, min_samples_split=31, n_estimators=850, random_state=42),\n",
        "    \"gradient_boosting\": GradientBoostingRegressor(learning_rate=0.07, n_estimators=150, max_depth=5, random_state=42),\n",
        "    \"adaboost\": AdaBoostRegressor(learning_rate=0.01, n_estimators=5, random_state=42),\n",
        "    \"svr\": SVR(C=10, kernel='linear'),\n",
        "    \"xgboost\": XGBRegressor(eta=0.13, max_depth=4, n_estimators=100, random_state=42),\n",
        "    \"lightgbm\": LGBMRegressor(learning_rate=0.055, n_estimators=131, max_depth=4, random_state=42, verbose=-1),\n",
        "}\n",
        "\n",
        "print(f'Media de precios: {preprocessed_df[\"1y_sharePrice\"].mean()}')\n",
        "\n",
        "for model in models:\n",
        "  start_t = time.time()\n",
        "  # Crear una pipeline con el preprocesador y el clasificador\n",
        "  pipeline = Pipeline([\n",
        "      ('preprocessor', preprocessor),\n",
        "      ('scaler', MaxAbsScaler()),\n",
        "      ('regressor', models[model])\n",
        "  ])\n",
        "\n",
        "  # Entrenar el modelo y realizar predicciones\n",
        "  pipeline.fit(X_train, y_train)\n",
        "  y_predict = pipeline.predict(X_test)\n",
        "  end_t = time.time()\n",
        "\n",
        "  # Comprobamos el MAE respecto al dummy regressor\n",
        "  MAE = metrics.mean_absolute_error(y_test, y_predict)\n",
        "  diff_MAE = (dummy_MAE - MAE)*100 / dummy_MAE\n",
        "  print(f\"{model} MAE: {MAE}  --  mejora respecto a dummy: {diff_MAE}  --  Tiempo de ejecucion (s): {end_t - start_t}\")\n"
      ]
    },
    {
      "cell_type": "markdown",
      "metadata": {
        "id": "66Zes8heSnve"
      },
      "source": [
        "Como podemos ver, el modelo que mejor se comporta en este caso es gradient boosting, con un MAE de 12.38$.\n",
        "\n",
        "A continuación podemos ver una tabla comparativa de los errores medios absolutos de cada modelo básico vs hiperparametrizado:\n",
        "\n",
        "| Modelos          | MAE (Default)     | MAE (Hiperparametrizado)  |\n",
        "|------------------|-------------------|---------------------------|\n",
        "| KNN              | 27.50             | 14.55                     |\n",
        "| Linear Regression| 27.24             | x                         |\n",
        "| Ridge            | 23.03             | 18.18                     |\n",
        "| Lasso            | 20.18             | 17.53                     |\n",
        "| Decision Tree    | 17.10             | 13.46                     |\n",
        "| Random Forest    | 12.79             | 12.52                     |\n",
        "| GradientBoosting | 12.85             | 12.38                     |\n",
        "| Adaboost         | 19.94             | 14.98                     |\n",
        "| SVR              | 25.16             | 16.03                     |\n",
        "| XGBoost          | 13.20             | 12.74                     |\n",
        "| LightGBM         | 13.06             | 12.57                     |\n",
        "\n",
        "En definitiva, podemos ver que la hiperparametrización ha sido muy conveniente en algunos modelos, destacando la mejora de SVR y KNN; sin embargo, en el caso de los ensembles no se logra obtener una mejora muy significativa. A pesar de ello, siguen siendo los modelos con mejores resultados."
      ]
    },
    {
      "cell_type": "markdown",
      "metadata": {
        "id": "d-nzgwLhwUNx"
      },
      "source": [
        "## Modelos de redes de neuronas\n",
        "\n",
        "En la siguiente sección investigaremos sobre la creación de modelos empleando redes de neuronas. Probaremos con diferentes métodos y compararemos los resultados con aquellos obtenidos anteriormente con los modelos básicos e hiperparametrizados.\n",
        "\n",
        "Al igual que en el desarrollo de modelo, debemos aplicar una serie de transformaciones que preparen lo datos, además al tratarse de redes neuronales debemos definir las secuencias de datos, es decir, la ventana de datos que se empleará para llevar a cabo la predicción."
      ]
    },
    {
      "cell_type": "code",
      "execution_count": null,
      "metadata": {
        "colab": {
          "base_uri": "https://localhost:8080/"
        },
        "id": "yRiQbwbDt5na",
        "outputId": "c1759f37-ae2f-4351-f3dc-6bdc1e8eff43"
      },
      "outputs": [
        {
          "name": "stdout",
          "output_type": "stream",
          "text": [
            "[[ 0.          0.          0.         ...  1.          0.\n",
            "   0.        ]\n",
            " [-0.15273784 -0.11004345 -0.10946633 ...  1.          0.\n",
            "   0.        ]\n",
            " [-0.15262633 -0.11004345 -0.10980956 ...  1.          0.\n",
            "   0.        ]\n",
            " ...\n",
            " [-0.14757916 -0.11001208 -0.21493387 ...  0.          0.\n",
            "   0.        ]\n",
            " [-0.14985285 -0.11004344 -0.11018376 ...  1.          0.\n",
            "   0.        ]\n",
            " [-0.14982294 -0.11004344 -0.11023753 ...  1.          0.\n",
            "   0.        ]]\n",
            "(33244, 5, 24) (8311, 5, 24) (33244,) (8311,)\n"
          ]
        }
      ],
      "source": [
        "# Separar las columnas objetivo y características\n",
        "preprocessed_df.sort_values(by=['symbol', 'fiscalDateEnding'], inplace=True)\n",
        "preprocessed_df.reset_index(drop=True, inplace=True)\n",
        "y = preprocessed_df['1y_sharePrice']\n",
        "X = preprocessed_df.drop(['fiscalDateEnding', '1y_sharePrice', 'symbol'], axis=1) # Eliminamos el symbolo porque genera demasiadas caracteristicas\n",
        "\n",
        "# Preparar el transformador\n",
        "preprocessor = ColumnTransformer(\n",
        "    transformers=[\n",
        "        ('num', Pipeline([\n",
        "            ('imputer', SimpleImputer(strategy='mean')),\n",
        "            ('scaler', StandardScaler())\n",
        "        ]), X.select_dtypes(include=['float64']).columns),\n",
        "        ('cat', OneHotEncoder(handle_unknown='ignore', sparse_output=False), ['sector'])\n",
        "    ])\n",
        "\n",
        "# Aplicamos el preprocesador a X y convertimos el resultado a array denso\n",
        "X_processed = preprocessor.fit_transform(X)\n",
        "\n",
        "# Función para crear secuencias\n",
        "def create_sequences(X, y, sequence_length):\n",
        "    X_seqs, y_seqs = [], []\n",
        "    print(X)\n",
        "    for i in range(len(X) - sequence_length):\n",
        "        X_seqs.append(X[i:(i + sequence_length)])\n",
        "        y_seqs.append(y[i + sequence_length])\n",
        "    return np.array(X_seqs), np.array(y_seqs)\n",
        "\n",
        "# Crear secuencias\n",
        "sequence_length = 5\n",
        "X_seqs, y_seqs = create_sequences(X_processed, y.values, sequence_length)\n",
        "\n",
        "# División en conjuntos de entrenamiento y prueba\n",
        "split_point = int(len(X_seqs) * 0.8)\n",
        "X_train, X_test = X_seqs[:split_point], X_seqs[split_point:]\n",
        "y_train, y_test = y_seqs[:split_point], y_seqs[split_point:]\n",
        "\n",
        "print(X_train.shape, X_test.shape, y_train.shape, y_test.shape)\n"
      ]
    },
    {
      "cell_type": "markdown",
      "metadata": {
        "id": "WQBGbOqZDLBV"
      },
      "source": [
        "Primero investigaremos las redes de neuronas de tipo LSTM, las cuales pueden ofrecernos buenos resultados para la predicción de series temporales. Comenzamos definiendo un sencillo modelo con una capa de 50 neuronas, función de activación relu, 10 epochs y un batch size de 64."
      ]
    },
    {
      "cell_type": "code",
      "execution_count": null,
      "metadata": {
        "colab": {
          "base_uri": "https://localhost:8080/"
        },
        "id": "Opnf9c8lxdW3",
        "outputId": "943e979c-a606-4055-d09d-b12bd4ea0b04"
      },
      "outputs": [
        {
          "name": "stdout",
          "output_type": "stream",
          "text": [
            "Epoch 1/10\n",
            "520/520 [==============================] - 3s 3ms/step - loss: 28.7840 - val_loss: 24.0454\n",
            "Epoch 2/10\n",
            "520/520 [==============================] - 1s 3ms/step - loss: 22.3758 - val_loss: 22.0173\n",
            "Epoch 3/10\n",
            "520/520 [==============================] - 2s 3ms/step - loss: 20.9523 - val_loss: 21.0275\n",
            "Epoch 4/10\n",
            "520/520 [==============================] - 2s 3ms/step - loss: 20.0070 - val_loss: 21.3325\n",
            "Epoch 5/10\n",
            "520/520 [==============================] - 2s 3ms/step - loss: 19.3579 - val_loss: 20.1818\n",
            "Epoch 6/10\n",
            "520/520 [==============================] - 2s 4ms/step - loss: 18.8490 - val_loss: 19.9453\n",
            "Epoch 7/10\n",
            "520/520 [==============================] - 1s 3ms/step - loss: 18.5504 - val_loss: 19.7570\n",
            "Epoch 8/10\n",
            "520/520 [==============================] - 2s 3ms/step - loss: 18.2284 - val_loss: 19.2457\n",
            "Epoch 9/10\n",
            "520/520 [==============================] - 2s 3ms/step - loss: 18.0528 - val_loss: 19.1046\n",
            "Epoch 10/10\n",
            "520/520 [==============================] - 2s 3ms/step - loss: 17.7046 - val_loss: 19.3192\n",
            "260/260 [==============================] - 0s 2ms/step - loss: 19.3192\n",
            "Test Loss (MSE): 19.319181442260742\n"
          ]
        }
      ],
      "source": [
        "# Definir la arquitectura del modelo\n",
        "model = Sequential([\n",
        "    # Primera capa LSTM\n",
        "    LSTM(units=50, activation='relu', return_sequences=False, input_shape=(X_train.shape[1], X_train.shape[2])),\n",
        "    # Capa de salida\n",
        "    Dense(units=1)\n",
        "])\n",
        "model.compile(optimizer='adam', loss='mean_absolute_error')\n",
        "\n",
        "# Entrenar el modelo\n",
        "history = model.fit(X_train, y_train, epochs=10, batch_size=64, validation_data=(X_test, y_test), verbose=1)\n",
        "\n",
        "# Evaluar el modelo\n",
        "test_loss = model.evaluate(X_test, y_test)\n",
        "print(f'Test Loss (MSE): {test_loss}')\n"
      ]
    },
    {
      "cell_type": "markdown",
      "metadata": {
        "id": "lxcRHHpZDkss"
      },
      "source": [
        "Como podemos ver los resultados no son muy buenos (MAE: 19.31$), sin embargo, llevaremos a cabo diferentes transformaciones al modelo para poder mejorar estos resultados.\n",
        "\n",
        "Comenzaremos modificando la arquitectura del modelo, en esta arquitectura probaremos con diferentes configuraciones de capas LSTM:\n",
        "\n",
        "units_options = [[50, 100, 150], [50, 100, 150]] - MAE: 18.806350708007812, Best combination: (150, 50)\n",
        "\n",
        "units_ options = [[150], [25, 50], [25, 50, 100]] - MAE: 18.678817749023438, Best combination: (150, 25, 25)\n",
        "\n",
        "units_options = [[150], [10, 25], [10, 25]] - MAE: 18.717117309570312, Best combination: (150, 10, 10)\n",
        "\n",
        "units_options = [[150], [20], [20], [20]]  - MAE: 19.089496612548828, Best combination: (150, 20, 20, 20)\n",
        "\n",
        "Como podemos comprobar, agregar más capas ya no nos ofrece mejor rendimiento. Y el número de neuronas por capa no varía tampoco. Por tanto, ahora probaremos a agregar jornadas de dropout a las capas ocultas, para comprobar si el modelo puede estar siendo afectado por sobreentrenamiento.\n",
        "\n",
        "Capas: 150, 20, 20; Dropout: 0.1 - MAE: 18.849729537963867, Best combination: (150, 20, 20)\n",
        "\n",
        "Capas: 150, 20, 20; Dropout: 0.2 - MAE: 18.944103240966797, Best combination: (150, 20, 20)\n",
        "\n",
        "Debido a que el dropout no nos aporta mayor precisión, vamos a probar a cambiar las funciones de activación de las capas (antes hemos utilizado en todas relu):\n",
        "\n",
        "\n",
        "Capas: 150 (relu), 20 (tanh), 20 (tanh) - MAE: 18.762306213378906, Best combination: (150, 20, 20)\n",
        "\n",
        "Capas: 150 (tanh), 20 (tanh), 20 (tanh) - MAE: 18.831974029541016, Best combination: (150, 20, 20)\n",
        "\n",
        "\n",
        "Empleando funciones de activación diferentes, como tanh tampoco conseguimos mejores resultados. A continuación probaremos a agregar regularización L2, probaremos con diferentes valores y probaremos a agregar más capas para intentar capturar mayor complejidad, a estas les aplicaremos mayores términos de regularización para evitar overfitting:\n",
        "\n",
        "units_options = [[150], [20], [20]]; l2: 0.01 - MAE: 20.34986114501953, Best combination: (150, 20, 20)\n",
        "\n",
        "Como podemos comprobar la regularización no nos aporta buenos resultados tampoco."
      ]
    },
    {
      "cell_type": "code",
      "execution_count": null,
      "metadata": {
        "colab": {
          "base_uri": "https://localhost:8080/"
        },
        "id": "NRXP7QrVDrNK",
        "outputId": "66d4eb33-43f6-4eb3-a8bc-364847acb8b9"
      },
      "outputs": [
        {
          "name": "stdout",
          "output_type": "stream",
          "text": [
            "Evaluando combinación:\n",
            "capa1: 150 - (150, 25, 25)\n",
            "capa2: 25 - (150, 25, 25)\n",
            "capa3: 25 - (150, 25, 25)\n",
            "Epoch 1/200\n",
            "520/520 [==============================] - 9s 13ms/step - loss: 27.6243 - val_loss: 22.6447\n",
            "Epoch 2/200\n",
            "520/520 [==============================] - 6s 11ms/step - loss: 22.3998 - val_loss: 21.6645\n",
            "Epoch 3/200\n",
            "520/520 [==============================] - 6s 12ms/step - loss: 20.0634 - val_loss: 19.8577\n",
            "Epoch 4/200\n",
            "520/520 [==============================] - 6s 11ms/step - loss: 19.2375 - val_loss: 20.0172\n",
            "Epoch 5/200\n",
            "520/520 [==============================] - 7s 14ms/step - loss: 18.7077 - val_loss: 19.1611\n",
            "Epoch 6/200\n",
            "520/520 [==============================] - 6s 11ms/step - loss: 18.1840 - val_loss: 19.4594\n",
            "Epoch 7/200\n",
            "520/520 [==============================] - 6s 12ms/step - loss: 18.5363 - val_loss: 19.6104\n",
            "Epoch 8/200\n",
            "520/520 [==============================] - 6s 11ms/step - loss: 17.8372 - val_loss: 18.9724\n",
            "Epoch 9/200\n",
            "520/520 [==============================] - 6s 12ms/step - loss: 17.7602 - val_loss: 19.2275\n",
            "Epoch 10/200\n",
            "520/520 [==============================] - 6s 11ms/step - loss: 17.3636 - val_loss: 18.5646\n",
            "Epoch 11/200\n",
            "520/520 [==============================] - 6s 12ms/step - loss: 17.2434 - val_loss: 18.4174\n",
            "Epoch 12/200\n",
            "520/520 [==============================] - 6s 12ms/step - loss: 17.0913 - val_loss: 18.5362\n",
            "Epoch 13/200\n",
            "520/520 [==============================] - 6s 11ms/step - loss: 17.1818 - val_loss: 18.8573\n",
            "Epoch 14/200\n",
            "520/520 [==============================] - 7s 13ms/step - loss: 16.9198 - val_loss: 18.2626\n",
            "Epoch 15/200\n",
            "520/520 [==============================] - 6s 11ms/step - loss: 16.8813 - val_loss: 18.3522\n",
            "Epoch 16/200\n",
            "520/520 [==============================] - 6s 12ms/step - loss: 16.6865 - val_loss: 18.6971\n",
            "Epoch 17/200\n",
            "520/520 [==============================] - 6s 11ms/step - loss: 16.5341 - val_loss: 18.4650\n",
            "Epoch 18/200\n",
            "520/520 [==============================] - 6s 12ms/step - loss: 16.6093 - val_loss: 18.2819\n",
            "Epoch 19/200\n",
            "520/520 [==============================] - 6s 11ms/step - loss: 16.1851 - val_loss: 18.5594\n",
            "Epoch 20/200\n",
            "520/520 [==============================] - 7s 13ms/step - loss: 16.0841 - val_loss: 18.5240\n",
            "Epoch 21/200\n",
            "520/520 [==============================] - 6s 11ms/step - loss: 16.0577 - val_loss: 18.5986\n",
            "Epoch 22/200\n",
            "520/520 [==============================] - 6s 12ms/step - loss: 15.9798 - val_loss: 19.0728\n",
            "Epoch 23/200\n",
            "520/520 [==============================] - 6s 11ms/step - loss: 15.9922 - val_loss: 18.6105\n",
            "Epoch 24/200\n",
            "520/520 [==============================] - 6s 12ms/step - loss: 15.7635 - val_loss: 18.4096\n",
            "260/260 [==============================] - 1s 3ms/step - loss: 18.2626\n",
            "Test Loss (MSE): 18.262615203857422 - Combination: (150, 25, 25)\n",
            "\n",
            "\n",
            "MAE: 18.262615203857422, Best combination: (150, 25, 25)\n"
          ]
        }
      ],
      "source": [
        "def build_model(layers_units):\n",
        "    \"\"\"Construye el modelo basado en una lista de unidades por capa.\"\"\"\n",
        "    model = Sequential()\n",
        "    for i, units in enumerate(layers_units):\n",
        "        print(f'capa{i+1}: {units} - {layers_units}')\n",
        "        return_sequences = i < len(layers_units) - 1  # True para todas menos la última capa LSTM\n",
        "        if i == 0:\n",
        "            model.add(LSTM(units=units, activation='relu', return_sequences=return_sequences,\n",
        "                           input_shape=(X_train.shape[1], X_train.shape[2])))\n",
        "        else:\n",
        "            model.add(LSTM(units=units, activation='relu', return_sequences=return_sequences))\n",
        "            # model.add(Dropout(0.2))\n",
        "    model.add(Dense(1))  # Capa de salida\n",
        "    model.compile(optimizer='adam', loss='mean_absolute_error')\n",
        "    return model\n",
        "\n",
        "def train_and_evaluate_model(layers_units):\n",
        "    \"\"\"Entrena y evalúa el modelo.\"\"\"\n",
        "    model = build_model(layers_units)\n",
        "    early_stopping = EarlyStopping(monitor='val_loss', patience=10, restore_best_weights=True)\n",
        "    model.fit(X_train, y_train, epochs=200, batch_size=64, validation_data=(X_test, y_test), verbose=1, callbacks=[early_stopping])\n",
        "    test_loss = model.evaluate(X_test, y_test)\n",
        "    return test_loss\n",
        "\n",
        "# Especificación de las unidades para cada: [[capa1], [capa2] ... [capaN]]\n",
        "units_options = [[150], [25], [25]]\n",
        "\n",
        "# Generación de todas las combinaciones posibles de unidades\n",
        "all_combinations = list(product(*units_options))\n",
        "best_mae = np.inf\n",
        "best_combination = None\n",
        "\n",
        "# Bucle para entrenar y evaluar cada combinación\n",
        "for combination in all_combinations:\n",
        "    print(f'Evaluando combinación:')\n",
        "    test_loss = train_and_evaluate_model(combination)\n",
        "    print(f'Test Loss (MSE): {test_loss} - Combination: {combination}\\n\\n')\n",
        "    if test_loss < best_mae:\n",
        "        best_mae = test_loss\n",
        "        best_combination = combination\n",
        "\n",
        "print(f'MAE: {best_mae}, Best combination: {best_combination}')\n"
      ]
    },
    {
      "cell_type": "markdown",
      "metadata": {
        "id": "xvB3tb60Irls"
      },
      "source": [
        "Debido a que los resultados hasta ahora no han sido satisfactorios, vamos a probar a mezclaz capas LSTM con capas densas:\n",
        "\n",
        "unit_options = [[150]LSTM, [20, 50, 100]D, [20, 50, 100]D] - MAE: 18.547462463378906, Best combination: (150, 50, 100)\n",
        "\n",
        "unit_options = [[100, 150]D, [20, 50]LSTM, [20, 50]LSTM] - MAE: 18.618072509765625, Best combination: (150, 50, 50)\n",
        "\n",
        "Tras probar con otras como Conv1D (efectivas en algunos problemas de regresión) y MaxPooling (efectivas en reducción de dimensionalidad) no obtenemos resultados buenos. Por tanto, ya que LSTM y su combinación con otros tipos de capas no otorgan buenos resultados, probaremos a utilizar otros tipos de redes como GRU:\n",
        "\n",
        "GRU: [[100, 150], [20,50], [20,50]]  - MAE: 18.535097122192383, Best combination: (100, 50, 20)\n",
        "\n",
        "GRU: [[50, 100, 150, 200]] - MAE: 19.096721649169922, Best combination: (100,)\n",
        "\n",
        "Finalmente, usando capas GRU tampoco conseguimos resultados concluyentes. Por tanto, podemos confirmar que en este caso concreto, debido a la estructura de los datos no podemos usar redes neuronales para la predicción de precios.\n",
        "\n",
        "\n",
        "\n",
        "\n",
        "\n"
      ]
    },
    {
      "cell_type": "code",
      "execution_count": null,
      "metadata": {
        "colab": {
          "base_uri": "https://localhost:8080/"
        },
        "id": "TEGziyw7Iz59",
        "outputId": "d48815a1-55de-460b-8e3f-953346208459"
      },
      "outputs": [
        {
          "name": "stdout",
          "output_type": "stream",
          "text": [
            "Evaluando combinación:\n",
            "capa1: 50 - (50,)\n",
            "Epoch 1/200\n",
            "520/520 [==============================] - 5s 7ms/step - loss: 32.1392 - val_loss: 29.0827\n",
            "Epoch 2/200\n",
            "520/520 [==============================] - 3s 5ms/step - loss: 28.8267 - val_loss: 26.0244\n",
            "Epoch 3/200\n",
            "520/520 [==============================] - 2s 4ms/step - loss: 25.0310 - val_loss: 24.3968\n",
            "Epoch 4/200\n",
            "520/520 [==============================] - 2s 4ms/step - loss: 23.1701 - val_loss: 23.2855\n",
            "Epoch 5/200\n",
            "520/520 [==============================] - 2s 5ms/step - loss: 22.4773 - val_loss: 23.1436\n",
            "Epoch 6/200\n",
            "520/520 [==============================] - 3s 6ms/step - loss: 22.1808 - val_loss: 22.4544\n",
            "Epoch 7/200\n",
            "520/520 [==============================] - 3s 6ms/step - loss: 21.9803 - val_loss: 22.1686\n",
            "Epoch 8/200\n",
            "520/520 [==============================] - 2s 4ms/step - loss: 21.8424 - val_loss: 22.2037\n",
            "Epoch 9/200\n",
            "520/520 [==============================] - 2s 4ms/step - loss: 21.7023 - val_loss: 22.3466\n",
            "Epoch 10/200\n",
            "520/520 [==============================] - 2s 4ms/step - loss: 21.6250 - val_loss: 22.1237\n",
            "Epoch 11/200\n",
            "520/520 [==============================] - 3s 5ms/step - loss: 21.5053 - val_loss: 22.1690\n",
            "Epoch 12/200\n",
            "520/520 [==============================] - 3s 6ms/step - loss: 21.4387 - val_loss: 21.9808\n",
            "Epoch 13/200\n",
            "520/520 [==============================] - 2s 5ms/step - loss: 21.3352 - val_loss: 21.8761\n",
            "Epoch 14/200\n",
            "520/520 [==============================] - 2s 5ms/step - loss: 21.2338 - val_loss: 21.7224\n",
            "Epoch 15/200\n",
            "520/520 [==============================] - 2s 5ms/step - loss: 21.1996 - val_loss: 21.6414\n",
            "Epoch 16/200\n",
            "520/520 [==============================] - 3s 5ms/step - loss: 21.1238 - val_loss: 21.7823\n",
            "Epoch 17/200\n",
            "520/520 [==============================] - 4s 7ms/step - loss: 21.0694 - val_loss: 21.6687\n",
            "Epoch 18/200\n",
            "520/520 [==============================] - 2s 4ms/step - loss: 20.9965 - val_loss: 21.5520\n",
            "Epoch 19/200\n",
            "520/520 [==============================] - 2s 5ms/step - loss: 20.9094 - val_loss: 21.4862\n",
            "Epoch 20/200\n",
            "520/520 [==============================] - 2s 5ms/step - loss: 20.8533 - val_loss: 21.5602\n",
            "Epoch 21/200\n",
            "520/520 [==============================] - 3s 5ms/step - loss: 20.7764 - val_loss: 21.3040\n",
            "Epoch 22/200\n",
            "520/520 [==============================] - 3s 6ms/step - loss: 20.6870 - val_loss: 21.3937\n",
            "Epoch 23/200\n",
            "520/520 [==============================] - 2s 4ms/step - loss: 20.6346 - val_loss: 21.2836\n",
            "Epoch 24/200\n",
            "520/520 [==============================] - 2s 4ms/step - loss: 20.5330 - val_loss: 21.2803\n",
            "Epoch 25/200\n",
            "520/520 [==============================] - 2s 4ms/step - loss: 20.4491 - val_loss: 21.0207\n",
            "Epoch 26/200\n",
            "520/520 [==============================] - 2s 5ms/step - loss: 20.3449 - val_loss: 21.0530\n",
            "Epoch 27/200\n",
            "520/520 [==============================] - 3s 7ms/step - loss: 20.2102 - val_loss: 20.8134\n",
            "Epoch 28/200\n",
            "520/520 [==============================] - 2s 5ms/step - loss: 20.0952 - val_loss: 21.2099\n",
            "Epoch 29/200\n",
            "520/520 [==============================] - 2s 4ms/step - loss: 20.0197 - val_loss: 20.6536\n",
            "Epoch 30/200\n",
            "520/520 [==============================] - 2s 4ms/step - loss: 19.8163 - val_loss: 20.6546\n",
            "Epoch 31/200\n",
            "520/520 [==============================] - 2s 5ms/step - loss: 19.6778 - val_loss: 20.7145\n",
            "Epoch 32/200\n",
            "520/520 [==============================] - 3s 6ms/step - loss: 19.5152 - val_loss: 20.2173\n",
            "Epoch 33/200\n",
            "520/520 [==============================] - 3s 5ms/step - loss: 19.3925 - val_loss: 20.1626\n",
            "Epoch 34/200\n",
            "520/520 [==============================] - 2s 4ms/step - loss: 19.2238 - val_loss: 19.9972\n",
            "Epoch 35/200\n",
            "520/520 [==============================] - 2s 4ms/step - loss: 19.0845 - val_loss: 20.0629\n",
            "Epoch 36/200\n",
            "520/520 [==============================] - 2s 4ms/step - loss: 19.0077 - val_loss: 20.0161\n",
            "Epoch 37/200\n",
            "520/520 [==============================] - 3s 6ms/step - loss: 18.8657 - val_loss: 19.7785\n",
            "Epoch 38/200\n",
            "520/520 [==============================] - 3s 6ms/step - loss: 18.7812 - val_loss: 20.3224\n",
            "Epoch 39/200\n",
            "520/520 [==============================] - 2s 4ms/step - loss: 18.7339 - val_loss: 19.9698\n",
            "Epoch 40/200\n",
            "520/520 [==============================] - 2s 5ms/step - loss: 18.6677 - val_loss: 19.7797\n",
            "Epoch 41/200\n",
            "520/520 [==============================] - 2s 4ms/step - loss: 18.5732 - val_loss: 19.6553\n",
            "Epoch 42/200\n",
            "520/520 [==============================] - 3s 5ms/step - loss: 18.5538 - val_loss: 19.7237\n",
            "Epoch 43/200\n",
            "520/520 [==============================] - 3s 6ms/step - loss: 18.5169 - val_loss: 20.1904\n",
            "Epoch 44/200\n",
            "520/520 [==============================] - 2s 4ms/step - loss: 18.4714 - val_loss: 19.5863\n",
            "Epoch 45/200\n",
            "520/520 [==============================] - 2s 5ms/step - loss: 18.4095 - val_loss: 19.8411\n",
            "Epoch 46/200\n",
            "520/520 [==============================] - 2s 4ms/step - loss: 18.3493 - val_loss: 19.5910\n",
            "Epoch 47/200\n",
            "520/520 [==============================] - 2s 4ms/step - loss: 18.3492 - val_loss: 19.5063\n",
            "Epoch 48/200\n",
            "520/520 [==============================] - 4s 7ms/step - loss: 18.2620 - val_loss: 20.2173\n",
            "Epoch 49/200\n",
            "520/520 [==============================] - 2s 5ms/step - loss: 18.3135 - val_loss: 19.5303\n",
            "Epoch 50/200\n",
            "520/520 [==============================] - 2s 5ms/step - loss: 18.2239 - val_loss: 19.5840\n",
            "Epoch 51/200\n",
            "520/520 [==============================] - 2s 4ms/step - loss: 18.1459 - val_loss: 19.4837\n",
            "Epoch 52/200\n",
            "520/520 [==============================] - 2s 4ms/step - loss: 18.1705 - val_loss: 19.3996\n",
            "Epoch 53/200\n",
            "520/520 [==============================] - 3s 6ms/step - loss: 18.1279 - val_loss: 19.4469\n",
            "Epoch 54/200\n",
            "520/520 [==============================] - 3s 5ms/step - loss: 18.1033 - val_loss: 19.5190\n",
            "Epoch 55/200\n",
            "520/520 [==============================] - 2s 5ms/step - loss: 18.0783 - val_loss: 19.4063\n",
            "Epoch 56/200\n",
            "520/520 [==============================] - 2s 4ms/step - loss: 18.0271 - val_loss: 19.5656\n",
            "Epoch 57/200\n",
            "520/520 [==============================] - 2s 5ms/step - loss: 17.9863 - val_loss: 19.4604\n",
            "Epoch 58/200\n",
            "520/520 [==============================] - 3s 6ms/step - loss: 17.9734 - val_loss: 19.3793\n",
            "Epoch 59/200\n",
            "520/520 [==============================] - 3s 6ms/step - loss: 17.9194 - val_loss: 19.4049\n",
            "Epoch 60/200\n",
            "520/520 [==============================] - 2s 5ms/step - loss: 17.8938 - val_loss: 19.3976\n",
            "Epoch 61/200\n",
            "520/520 [==============================] - 2s 5ms/step - loss: 17.8310 - val_loss: 19.5046\n",
            "Epoch 62/200\n",
            "520/520 [==============================] - 2s 5ms/step - loss: 17.8153 - val_loss: 19.2544\n",
            "Epoch 63/200\n",
            "520/520 [==============================] - 3s 6ms/step - loss: 17.8275 - val_loss: 19.2637\n",
            "Epoch 64/200\n",
            "520/520 [==============================] - 3s 6ms/step - loss: 17.8478 - val_loss: 19.3346\n",
            "Epoch 65/200\n",
            "520/520 [==============================] - 2s 4ms/step - loss: 17.7531 - val_loss: 19.2853\n",
            "Epoch 66/200\n",
            "520/520 [==============================] - 2s 4ms/step - loss: 17.7474 - val_loss: 19.2623\n",
            "Epoch 67/200\n",
            "520/520 [==============================] - 2s 5ms/step - loss: 17.7558 - val_loss: 19.3074\n",
            "Epoch 68/200\n",
            "520/520 [==============================] - 3s 5ms/step - loss: 17.7096 - val_loss: 19.3367\n",
            "Epoch 69/200\n",
            "520/520 [==============================] - 3s 6ms/step - loss: 17.7173 - val_loss: 19.8136\n",
            "Epoch 70/200\n",
            "520/520 [==============================] - 2s 4ms/step - loss: 17.6693 - val_loss: 19.3005\n",
            "Epoch 71/200\n",
            "520/520 [==============================] - 2s 4ms/step - loss: 17.6599 - val_loss: 19.6067\n",
            "Epoch 72/200\n",
            "520/520 [==============================] - 2s 4ms/step - loss: 17.6338 - val_loss: 19.3229\n",
            "260/260 [==============================] - 1s 3ms/step - loss: 19.2544\n",
            "Test Loss (MSE): 19.25442123413086 - Combination: (50,)\n",
            "\n",
            "\n",
            "Evaluando combinación:\n",
            "capa1: 100 - (100,)\n",
            "Epoch 1/200\n",
            "520/520 [==============================] - 6s 8ms/step - loss: 31.7236 - val_loss: 28.0253\n",
            "Epoch 2/200\n",
            "520/520 [==============================] - 3s 6ms/step - loss: 27.0072 - val_loss: 25.0719\n",
            "Epoch 3/200\n",
            "520/520 [==============================] - 4s 8ms/step - loss: 23.8977 - val_loss: 23.5332\n",
            "Epoch 4/200\n",
            "520/520 [==============================] - 4s 8ms/step - loss: 22.5355 - val_loss: 22.6172\n",
            "Epoch 5/200\n",
            "520/520 [==============================] - 3s 6ms/step - loss: 21.9949 - val_loss: 22.2233\n",
            "Epoch 6/200\n",
            "520/520 [==============================] - 4s 7ms/step - loss: 21.6926 - val_loss: 21.9865\n",
            "Epoch 7/200\n",
            "520/520 [==============================] - 5s 10ms/step - loss: 21.4928 - val_loss: 21.9175\n",
            "Epoch 8/200\n",
            "520/520 [==============================] - 3s 6ms/step - loss: 21.2834 - val_loss: 22.1179\n",
            "Epoch 9/200\n",
            "520/520 [==============================] - 3s 6ms/step - loss: 21.1627 - val_loss: 21.8238\n",
            "Epoch 10/200\n",
            "520/520 [==============================] - 4s 8ms/step - loss: 20.9445 - val_loss: 21.6658\n",
            "Epoch 11/200\n",
            "520/520 [==============================] - 4s 9ms/step - loss: 20.8222 - val_loss: 21.4551\n",
            "Epoch 12/200\n",
            "520/520 [==============================] - 4s 7ms/step - loss: 20.6555 - val_loss: 21.4229\n",
            "Epoch 13/200\n",
            "520/520 [==============================] - 4s 7ms/step - loss: 20.4944 - val_loss: 21.3370\n",
            "Epoch 14/200\n",
            "520/520 [==============================] - 5s 9ms/step - loss: 20.3165 - val_loss: 21.1150\n",
            "Epoch 15/200\n",
            "520/520 [==============================] - 3s 7ms/step - loss: 20.1967 - val_loss: 21.4206\n",
            "Epoch 16/200\n",
            "520/520 [==============================] - 4s 7ms/step - loss: 20.0306 - val_loss: 21.1306\n",
            "Epoch 17/200\n",
            "520/520 [==============================] - 4s 9ms/step - loss: 19.9042 - val_loss: 21.0522\n",
            "Epoch 18/200\n",
            "520/520 [==============================] - 4s 7ms/step - loss: 19.7585 - val_loss: 20.7953\n",
            "Epoch 19/200\n",
            "520/520 [==============================] - 4s 7ms/step - loss: 19.6174 - val_loss: 20.7043\n",
            "Epoch 20/200\n",
            "520/520 [==============================] - 4s 7ms/step - loss: 19.5727 - val_loss: 20.6987\n",
            "Epoch 21/200\n",
            "520/520 [==============================] - 5s 10ms/step - loss: 19.4016 - val_loss: 20.6580\n",
            "Epoch 22/200\n",
            "520/520 [==============================] - 4s 7ms/step - loss: 19.2717 - val_loss: 20.6347\n",
            "Epoch 23/200\n",
            "520/520 [==============================] - 4s 7ms/step - loss: 19.1740 - val_loss: 20.3431\n",
            "Epoch 24/200\n",
            "520/520 [==============================] - 5s 9ms/step - loss: 19.0727 - val_loss: 20.5276\n",
            "Epoch 25/200\n",
            "520/520 [==============================] - 3s 7ms/step - loss: 18.9918 - val_loss: 20.4733\n",
            "Epoch 26/200\n",
            "520/520 [==============================] - 4s 7ms/step - loss: 18.8646 - val_loss: 20.1352\n",
            "Epoch 27/200\n",
            "520/520 [==============================] - 4s 7ms/step - loss: 18.8545 - val_loss: 20.1775\n",
            "Epoch 28/200\n",
            "520/520 [==============================] - 5s 9ms/step - loss: 18.7443 - val_loss: 20.0384\n",
            "Epoch 29/200\n",
            "520/520 [==============================] - 3s 7ms/step - loss: 18.6898 - val_loss: 20.1167\n",
            "Epoch 30/200\n",
            "520/520 [==============================] - 4s 7ms/step - loss: 18.6058 - val_loss: 20.0519\n",
            "Epoch 31/200\n",
            "520/520 [==============================] - 5s 9ms/step - loss: 18.5155 - val_loss: 20.0828\n",
            "Epoch 32/200\n",
            "520/520 [==============================] - 4s 8ms/step - loss: 18.4434 - val_loss: 20.0048\n",
            "Epoch 33/200\n",
            "520/520 [==============================] - 3s 7ms/step - loss: 18.3913 - val_loss: 19.9692\n",
            "Epoch 34/200\n",
            "520/520 [==============================] - 4s 7ms/step - loss: 18.3129 - val_loss: 19.8420\n",
            "Epoch 35/200\n",
            "520/520 [==============================] - 5s 10ms/step - loss: 18.2895 - val_loss: 19.8099\n",
            "Epoch 36/200\n",
            "520/520 [==============================] - 4s 7ms/step - loss: 18.1790 - val_loss: 19.8432\n",
            "Epoch 37/200\n",
            "520/520 [==============================] - 3s 7ms/step - loss: 18.2076 - val_loss: 19.8496\n",
            "Epoch 38/200\n",
            "520/520 [==============================] - 5s 10ms/step - loss: 18.1054 - val_loss: 20.4867\n",
            "Epoch 39/200\n",
            "520/520 [==============================] - 3s 7ms/step - loss: 18.0965 - val_loss: 19.6484\n",
            "Epoch 40/200\n",
            "520/520 [==============================] - 4s 7ms/step - loss: 18.0574 - val_loss: 19.8859\n",
            "Epoch 41/200\n",
            "520/520 [==============================] - 4s 8ms/step - loss: 17.9909 - val_loss: 19.6152\n",
            "Epoch 42/200\n",
            "520/520 [==============================] - 5s 9ms/step - loss: 17.9511 - val_loss: 19.6437\n",
            "Epoch 43/200\n",
            "520/520 [==============================] - 4s 7ms/step - loss: 17.9236 - val_loss: 19.6350\n",
            "Epoch 44/200\n",
            "520/520 [==============================] - 3s 6ms/step - loss: 17.9342 - val_loss: 19.6428\n",
            "Epoch 45/200\n",
            "520/520 [==============================] - 5s 10ms/step - loss: 17.8629 - val_loss: 19.7686\n",
            "Epoch 46/200\n",
            "520/520 [==============================] - 4s 7ms/step - loss: 17.8619 - val_loss: 19.5271\n",
            "Epoch 47/200\n",
            "520/520 [==============================] - 4s 7ms/step - loss: 17.8515 - val_loss: 19.5395\n",
            "Epoch 48/200\n",
            "520/520 [==============================] - 5s 9ms/step - loss: 17.8224 - val_loss: 20.0941\n",
            "Epoch 49/200\n",
            "520/520 [==============================] - 4s 8ms/step - loss: 17.7650 - val_loss: 19.6318\n",
            "Epoch 50/200\n",
            "520/520 [==============================] - 3s 7ms/step - loss: 17.7871 - val_loss: 19.5052\n",
            "Epoch 51/200\n",
            "520/520 [==============================] - 4s 7ms/step - loss: 17.7743 - val_loss: 19.6217\n",
            "Epoch 52/200\n",
            "520/520 [==============================] - 5s 9ms/step - loss: 17.7246 - val_loss: 19.5109\n",
            "Epoch 53/200\n",
            "520/520 [==============================] - 3s 7ms/step - loss: 17.6927 - val_loss: 19.4809\n",
            "Epoch 54/200\n",
            "520/520 [==============================] - 4s 7ms/step - loss: 17.6727 - val_loss: 19.5420\n",
            "Epoch 55/200\n",
            "520/520 [==============================] - 5s 9ms/step - loss: 17.6913 - val_loss: 19.5858\n",
            "Epoch 56/200\n",
            "520/520 [==============================] - 4s 7ms/step - loss: 17.6841 - val_loss: 19.5011\n",
            "Epoch 57/200\n",
            "520/520 [==============================] - 4s 7ms/step - loss: 17.6294 - val_loss: 19.5361\n",
            "Epoch 58/200\n",
            "520/520 [==============================] - 4s 7ms/step - loss: 17.6443 - val_loss: 19.4797\n",
            "Epoch 59/200\n",
            "520/520 [==============================] - 4s 9ms/step - loss: 17.6263 - val_loss: 19.4631\n",
            "Epoch 60/200\n",
            "520/520 [==============================] - 3s 7ms/step - loss: 17.6424 - val_loss: 19.5851\n",
            "Epoch 61/200\n",
            "520/520 [==============================] - 4s 7ms/step - loss: 17.5717 - val_loss: 19.6461\n",
            "Epoch 62/200\n",
            "520/520 [==============================] - 5s 9ms/step - loss: 17.6014 - val_loss: 19.5024\n",
            "Epoch 63/200\n",
            "520/520 [==============================] - 4s 7ms/step - loss: 17.5550 - val_loss: 19.3837\n",
            "Epoch 64/200\n",
            "520/520 [==============================] - 3s 7ms/step - loss: 17.5516 - val_loss: 19.6036\n",
            "Epoch 65/200\n",
            "520/520 [==============================] - 4s 7ms/step - loss: 17.5692 - val_loss: 19.4866\n",
            "Epoch 66/200\n",
            "520/520 [==============================] - 5s 9ms/step - loss: 17.5137 - val_loss: 19.4149\n",
            "Epoch 67/200\n",
            "520/520 [==============================] - 3s 7ms/step - loss: 17.5064 - val_loss: 19.3672\n",
            "Epoch 68/200\n",
            "520/520 [==============================] - 3s 7ms/step - loss: 17.5233 - val_loss: 19.4099\n",
            "Epoch 69/200\n",
            "520/520 [==============================] - 5s 9ms/step - loss: 17.5054 - val_loss: 19.6105\n",
            "Epoch 70/200\n",
            "520/520 [==============================] - 3s 7ms/step - loss: 17.4817 - val_loss: 19.4099\n",
            "Epoch 71/200\n",
            "520/520 [==============================] - 4s 7ms/step - loss: 17.4783 - val_loss: 19.3090\n",
            "Epoch 72/200\n",
            "520/520 [==============================] - 4s 8ms/step - loss: 17.4569 - val_loss: 19.3533\n",
            "Epoch 73/200\n",
            "520/520 [==============================] - 4s 8ms/step - loss: 17.4726 - val_loss: 19.5070\n",
            "Epoch 74/200\n",
            "520/520 [==============================] - 3s 7ms/step - loss: 17.4354 - val_loss: 19.2551\n",
            "Epoch 75/200\n",
            "520/520 [==============================] - 3s 7ms/step - loss: 17.4725 - val_loss: 19.5371\n",
            "Epoch 76/200\n",
            "520/520 [==============================] - 5s 9ms/step - loss: 17.4311 - val_loss: 19.3302\n",
            "Epoch 77/200\n",
            "520/520 [==============================] - 4s 8ms/step - loss: 17.4102 - val_loss: 19.3047\n",
            "Epoch 78/200\n",
            "520/520 [==============================] - 3s 6ms/step - loss: 17.3576 - val_loss: 19.3627\n",
            "Epoch 79/200\n",
            "520/520 [==============================] - 4s 7ms/step - loss: 17.4066 - val_loss: 19.4005\n",
            "Epoch 80/200\n",
            "520/520 [==============================] - 5s 9ms/step - loss: 17.4088 - val_loss: 19.6114\n",
            "Epoch 81/200\n",
            "520/520 [==============================] - 4s 7ms/step - loss: 17.3655 - val_loss: 19.2515\n",
            "Epoch 82/200\n",
            "520/520 [==============================] - 4s 7ms/step - loss: 17.3338 - val_loss: 19.3424\n",
            "Epoch 83/200\n",
            "520/520 [==============================] - 5s 10ms/step - loss: 17.3689 - val_loss: 19.2722\n",
            "Epoch 84/200\n",
            "520/520 [==============================] - 4s 7ms/step - loss: 17.3790 - val_loss: 19.3247\n",
            "Epoch 85/200\n",
            "520/520 [==============================] - 3s 7ms/step - loss: 17.3476 - val_loss: 19.4888\n",
            "Epoch 86/200\n",
            "520/520 [==============================] - 4s 8ms/step - loss: 17.3084 - val_loss: 19.8903\n",
            "Epoch 87/200\n",
            "520/520 [==============================] - 4s 8ms/step - loss: 17.3934 - val_loss: 19.3461\n",
            "Epoch 88/200\n",
            "520/520 [==============================] - 4s 7ms/step - loss: 17.3589 - val_loss: 19.3391\n",
            "Epoch 89/200\n",
            "520/520 [==============================] - 4s 7ms/step - loss: 17.3019 - val_loss: 19.3974\n",
            "Epoch 90/200\n",
            "520/520 [==============================] - 5s 10ms/step - loss: 17.3189 - val_loss: 19.5067\n",
            "Epoch 91/200\n",
            "520/520 [==============================] - 4s 7ms/step - loss: 17.3024 - val_loss: 19.1819\n",
            "Epoch 92/200\n",
            "520/520 [==============================] - 4s 7ms/step - loss: 17.2695 - val_loss: 19.5154\n",
            "Epoch 93/200\n",
            "520/520 [==============================] - 4s 8ms/step - loss: 17.2908 - val_loss: 19.1661\n",
            "Epoch 94/200\n",
            "520/520 [==============================] - 4s 8ms/step - loss: 17.2719 - val_loss: 19.2398\n",
            "Epoch 95/200\n",
            "520/520 [==============================] - 4s 7ms/step - loss: 17.2612 - val_loss: 19.1857\n",
            "Epoch 96/200\n",
            "520/520 [==============================] - 3s 7ms/step - loss: 17.2770 - val_loss: 19.1503\n",
            "Epoch 97/200\n",
            "520/520 [==============================] - 5s 10ms/step - loss: 17.2237 - val_loss: 19.5335\n",
            "Epoch 98/200\n",
            "520/520 [==============================] - 3s 7ms/step - loss: 17.2623 - val_loss: 19.1342\n",
            "Epoch 99/200\n",
            "520/520 [==============================] - 4s 7ms/step - loss: 17.2568 - val_loss: 19.1730\n",
            "Epoch 100/200\n",
            "520/520 [==============================] - 5s 9ms/step - loss: 17.2512 - val_loss: 19.4039\n",
            "Epoch 101/200\n",
            "520/520 [==============================] - 4s 7ms/step - loss: 17.2052 - val_loss: 19.2094\n",
            "Epoch 102/200\n",
            "520/520 [==============================] - 3s 6ms/step - loss: 17.2267 - val_loss: 19.1306\n",
            "Epoch 103/200\n",
            "520/520 [==============================] - 4s 7ms/step - loss: 17.2359 - val_loss: 19.1962\n",
            "Epoch 104/200\n",
            "520/520 [==============================] - 5s 9ms/step - loss: 17.1872 - val_loss: 19.2026\n",
            "Epoch 105/200\n",
            "520/520 [==============================] - 4s 7ms/step - loss: 17.2230 - val_loss: 19.2818\n",
            "Epoch 106/200\n",
            "520/520 [==============================] - 3s 7ms/step - loss: 17.1777 - val_loss: 19.1670\n",
            "Epoch 107/200\n",
            "520/520 [==============================] - 5s 9ms/step - loss: 17.1971 - val_loss: 19.1638\n",
            "Epoch 108/200\n",
            "520/520 [==============================] - 4s 7ms/step - loss: 17.1889 - val_loss: 19.1795\n",
            "Epoch 109/200\n",
            "520/520 [==============================] - 3s 7ms/step - loss: 17.1982 - val_loss: 19.2473\n",
            "Epoch 110/200\n",
            "520/520 [==============================] - 4s 7ms/step - loss: 17.2174 - val_loss: 19.1514\n",
            "Epoch 111/200\n",
            "520/520 [==============================] - 5s 9ms/step - loss: 17.1199 - val_loss: 19.3350\n",
            "Epoch 112/200\n",
            "520/520 [==============================] - 4s 7ms/step - loss: 17.1566 - val_loss: 19.0967\n",
            "Epoch 113/200\n",
            "520/520 [==============================] - 4s 7ms/step - loss: 17.1685 - val_loss: 19.1465\n",
            "Epoch 114/200\n",
            "520/520 [==============================] - 4s 8ms/step - loss: 17.1382 - val_loss: 19.2958\n",
            "Epoch 115/200\n",
            "520/520 [==============================] - 4s 7ms/step - loss: 17.1490 - val_loss: 19.1482\n",
            "Epoch 116/200\n",
            "520/520 [==============================] - 4s 7ms/step - loss: 17.1245 - val_loss: 19.1999\n",
            "Epoch 117/200\n",
            "520/520 [==============================] - 4s 7ms/step - loss: 17.1163 - val_loss: 19.2178\n",
            "Epoch 118/200\n",
            "520/520 [==============================] - 5s 10ms/step - loss: 17.1072 - val_loss: 19.3298\n",
            "Epoch 119/200\n",
            "520/520 [==============================] - 4s 7ms/step - loss: 17.1397 - val_loss: 19.1581\n",
            "Epoch 120/200\n",
            "520/520 [==============================] - 3s 6ms/step - loss: 17.0899 - val_loss: 19.3014\n",
            "Epoch 121/200\n",
            "520/520 [==============================] - 5s 9ms/step - loss: 17.1197 - val_loss: 19.1753\n",
            "Epoch 122/200\n",
            "520/520 [==============================] - 4s 7ms/step - loss: 17.1052 - val_loss: 19.1376\n",
            "260/260 [==============================] - 1s 4ms/step - loss: 19.0967\n",
            "Test Loss (MSE): 19.096721649169922 - Combination: (100,)\n",
            "\n",
            "\n",
            "Evaluando combinación:\n",
            "capa1: 150 - (150,)\n",
            "Epoch 1/200\n",
            "520/520 [==============================] - 7s 9ms/step - loss: 31.0103 - val_loss: 27.0609\n",
            "Epoch 2/200\n",
            "520/520 [==============================] - 4s 9ms/step - loss: 25.8144 - val_loss: 24.7848\n",
            "Epoch 3/200\n",
            "520/520 [==============================] - 6s 11ms/step - loss: 23.4448 - val_loss: 23.7200\n",
            "Epoch 4/200\n",
            "520/520 [==============================] - 4s 9ms/step - loss: 22.3284 - val_loss: 22.5487\n",
            "Epoch 5/200\n",
            "520/520 [==============================] - 4s 9ms/step - loss: 21.7919 - val_loss: 22.1428\n",
            "Epoch 6/200\n",
            "520/520 [==============================] - 6s 11ms/step - loss: 21.5536 - val_loss: 22.0430\n",
            "Epoch 7/200\n",
            "520/520 [==============================] - 4s 8ms/step - loss: 21.3651 - val_loss: 21.9319\n",
            "Epoch 8/200\n",
            "520/520 [==============================] - 5s 9ms/step - loss: 21.1735 - val_loss: 21.6766\n",
            "Epoch 9/200\n",
            "520/520 [==============================] - 5s 10ms/step - loss: 20.9983 - val_loss: 21.7416\n",
            "Epoch 10/200\n",
            "520/520 [==============================] - 4s 8ms/step - loss: 20.8431 - val_loss: 21.7218\n",
            "Epoch 11/200\n",
            "520/520 [==============================] - 5s 10ms/step - loss: 20.6637 - val_loss: 21.5110\n",
            "Epoch 12/200\n",
            "520/520 [==============================] - 5s 10ms/step - loss: 20.4925 - val_loss: 21.7931\n",
            "Epoch 13/200\n",
            "520/520 [==============================] - 5s 9ms/step - loss: 20.3683 - val_loss: 21.2249\n",
            "Epoch 14/200\n",
            "520/520 [==============================] - 6s 11ms/step - loss: 20.2091 - val_loss: 21.4299\n",
            "Epoch 15/200\n",
            "520/520 [==============================] - 4s 8ms/step - loss: 20.0791 - val_loss: 21.1937\n",
            "Epoch 16/200\n",
            "520/520 [==============================] - 4s 9ms/step - loss: 19.9721 - val_loss: 20.9798\n",
            "Epoch 17/200\n",
            "520/520 [==============================] - 6s 12ms/step - loss: 19.8237 - val_loss: 21.0573\n",
            "Epoch 18/200\n",
            "520/520 [==============================] - 4s 8ms/step - loss: 19.7076 - val_loss: 20.7214\n",
            "Epoch 19/200\n",
            "520/520 [==============================] - 4s 8ms/step - loss: 19.5912 - val_loss: 20.9867\n",
            "Epoch 20/200\n",
            "520/520 [==============================] - 6s 12ms/step - loss: 19.4854 - val_loss: 20.5824\n",
            "Epoch 21/200\n",
            "520/520 [==============================] - 4s 9ms/step - loss: 19.3917 - val_loss: 20.6014\n",
            "Epoch 22/200\n",
            "520/520 [==============================] - 4s 9ms/step - loss: 19.2587 - val_loss: 20.5897\n",
            "Epoch 23/200\n",
            "520/520 [==============================] - 6s 11ms/step - loss: 19.1565 - val_loss: 20.4498\n",
            "Epoch 24/200\n",
            "520/520 [==============================] - 4s 8ms/step - loss: 18.9989 - val_loss: 20.4053\n",
            "Epoch 25/200\n",
            "520/520 [==============================] - 4s 9ms/step - loss: 18.9278 - val_loss: 20.4177\n",
            "Epoch 26/200\n",
            "520/520 [==============================] - 6s 11ms/step - loss: 18.8387 - val_loss: 20.2011\n",
            "Epoch 27/200\n",
            "520/520 [==============================] - 4s 8ms/step - loss: 18.7144 - val_loss: 20.1472\n",
            "Epoch 28/200\n",
            "520/520 [==============================] - 5s 9ms/step - loss: 18.7038 - val_loss: 20.1417\n",
            "Epoch 29/200\n",
            "520/520 [==============================] - 5s 10ms/step - loss: 18.5585 - val_loss: 19.9542\n",
            "Epoch 30/200\n",
            "520/520 [==============================] - 4s 8ms/step - loss: 18.4818 - val_loss: 20.0363\n",
            "Epoch 31/200\n",
            "520/520 [==============================] - 5s 10ms/step - loss: 18.4718 - val_loss: 19.9021\n",
            "Epoch 32/200\n",
            "520/520 [==============================] - 5s 9ms/step - loss: 18.3654 - val_loss: 19.9254\n",
            "Epoch 33/200\n",
            "520/520 [==============================] - 4s 9ms/step - loss: 18.3248 - val_loss: 20.0811\n",
            "Epoch 34/200\n",
            "520/520 [==============================] - 6s 11ms/step - loss: 18.2575 - val_loss: 19.9579\n",
            "Epoch 35/200\n",
            "520/520 [==============================] - 5s 9ms/step - loss: 18.2172 - val_loss: 19.8024\n",
            "Epoch 36/200\n",
            "520/520 [==============================] - 4s 8ms/step - loss: 18.1910 - val_loss: 19.6698\n",
            "Epoch 37/200\n",
            "520/520 [==============================] - 6s 12ms/step - loss: 18.0711 - val_loss: 19.8456\n",
            "Epoch 38/200\n",
            "520/520 [==============================] - 4s 8ms/step - loss: 18.0845 - val_loss: 19.7241\n",
            "Epoch 39/200\n",
            "520/520 [==============================] - 5s 9ms/step - loss: 18.0265 - val_loss: 19.7355\n",
            "Epoch 40/200\n",
            "520/520 [==============================] - 6s 11ms/step - loss: 17.9735 - val_loss: 19.8426\n",
            "Epoch 41/200\n",
            "520/520 [==============================] - 4s 9ms/step - loss: 18.0123 - val_loss: 19.8861\n",
            "Epoch 42/200\n",
            "520/520 [==============================] - 5s 9ms/step - loss: 17.9315 - val_loss: 20.0070\n",
            "Epoch 43/200\n",
            "520/520 [==============================] - 6s 11ms/step - loss: 17.9177 - val_loss: 19.7955\n",
            "Epoch 44/200\n",
            "520/520 [==============================] - 5s 9ms/step - loss: 17.8863 - val_loss: 19.6984\n",
            "Epoch 45/200\n",
            "520/520 [==============================] - 5s 10ms/step - loss: 17.8491 - val_loss: 19.7910\n",
            "Epoch 46/200\n",
            "520/520 [==============================] - 5s 9ms/step - loss: 17.8203 - val_loss: 19.9623\n",
            "260/260 [==============================] - 1s 3ms/step - loss: 19.6698\n",
            "Test Loss (MSE): 19.669828414916992 - Combination: (150,)\n",
            "\n",
            "\n",
            "Evaluando combinación:\n",
            "capa1: 200 - (200,)\n",
            "Epoch 1/200\n",
            "520/520 [==============================] - 8s 12ms/step - loss: 30.7334 - val_loss: 26.5095\n",
            "Epoch 2/200\n",
            "520/520 [==============================] - 6s 12ms/step - loss: 25.3574 - val_loss: 24.7973\n",
            "Epoch 3/200\n",
            "520/520 [==============================] - 6s 11ms/step - loss: 22.9946 - val_loss: 22.8433\n",
            "Epoch 4/200\n",
            "520/520 [==============================] - 7s 13ms/step - loss: 21.8959 - val_loss: 22.3893\n",
            "Epoch 5/200\n",
            "520/520 [==============================] - 6s 11ms/step - loss: 21.5543 - val_loss: 22.2440\n",
            "Epoch 6/200\n",
            "520/520 [==============================] - 7s 14ms/step - loss: 21.3800 - val_loss: 21.8320\n",
            "Epoch 7/200\n",
            "520/520 [==============================] - 5s 10ms/step - loss: 21.1871 - val_loss: 22.0650\n",
            "Epoch 8/200\n",
            "520/520 [==============================] - 7s 14ms/step - loss: 20.9870 - val_loss: 21.9049\n",
            "Epoch 9/200\n",
            "520/520 [==============================] - 6s 11ms/step - loss: 20.8439 - val_loss: 21.6812\n",
            "Epoch 10/200\n",
            "520/520 [==============================] - 7s 14ms/step - loss: 20.6524 - val_loss: 21.7541\n",
            "Epoch 11/200\n",
            "520/520 [==============================] - 6s 11ms/step - loss: 20.5866 - val_loss: 21.4715\n",
            "Epoch 12/200\n",
            "520/520 [==============================] - 7s 14ms/step - loss: 20.3678 - val_loss: 21.2227\n",
            "Epoch 13/200\n",
            "520/520 [==============================] - 6s 11ms/step - loss: 20.2502 - val_loss: 21.2056\n",
            "Epoch 14/200\n",
            "520/520 [==============================] - 6s 12ms/step - loss: 20.0973 - val_loss: 21.1762\n",
            "Epoch 15/200\n",
            "520/520 [==============================] - 7s 13ms/step - loss: 19.9682 - val_loss: 20.9289\n",
            "Epoch 16/200\n",
            "520/520 [==============================] - 6s 11ms/step - loss: 19.8906 - val_loss: 20.7379\n",
            "Epoch 17/200\n",
            "520/520 [==============================] - 7s 14ms/step - loss: 19.7358 - val_loss: 20.8662\n",
            "Epoch 18/200\n",
            "520/520 [==============================] - 6s 11ms/step - loss: 19.6389 - val_loss: 20.8594\n",
            "Epoch 19/200\n",
            "520/520 [==============================] - 7s 14ms/step - loss: 19.4979 - val_loss: 20.5893\n",
            "Epoch 20/200\n",
            "520/520 [==============================] - 6s 11ms/step - loss: 19.3404 - val_loss: 20.7990\n",
            "Epoch 21/200\n",
            "520/520 [==============================] - 7s 14ms/step - loss: 19.2729 - val_loss: 20.6899\n",
            "Epoch 22/200\n",
            "520/520 [==============================] - 6s 11ms/step - loss: 19.1285 - val_loss: 20.2507\n",
            "Epoch 23/200\n",
            "520/520 [==============================] - 8s 15ms/step - loss: 19.0175 - val_loss: 20.2479\n",
            "Epoch 24/200\n",
            "520/520 [==============================] - 6s 11ms/step - loss: 18.8981 - val_loss: 20.2877\n",
            "Epoch 25/200\n",
            "520/520 [==============================] - 7s 13ms/step - loss: 18.8304 - val_loss: 20.3628\n",
            "Epoch 26/200\n",
            "520/520 [==============================] - 6s 12ms/step - loss: 18.7418 - val_loss: 20.1723\n",
            "Epoch 27/200\n",
            "520/520 [==============================] - 6s 12ms/step - loss: 18.6452 - val_loss: 20.0970\n",
            "Epoch 28/200\n",
            "520/520 [==============================] - 7s 14ms/step - loss: 18.5740 - val_loss: 19.9343\n",
            "Epoch 29/200\n",
            "520/520 [==============================] - 6s 11ms/step - loss: 18.5139 - val_loss: 19.9643\n",
            "Epoch 30/200\n",
            "520/520 [==============================] - 8s 15ms/step - loss: 18.3857 - val_loss: 20.0620\n",
            "Epoch 31/200\n",
            "520/520 [==============================] - 6s 11ms/step - loss: 18.3581 - val_loss: 19.9507\n",
            "Epoch 32/200\n",
            "520/520 [==============================] - 7s 14ms/step - loss: 18.2397 - val_loss: 19.9348\n",
            "Epoch 33/200\n",
            "520/520 [==============================] - 6s 11ms/step - loss: 18.2410 - val_loss: 19.8568\n",
            "Epoch 34/200\n",
            "520/520 [==============================] - 7s 14ms/step - loss: 18.2015 - val_loss: 19.7761\n",
            "Epoch 35/200\n",
            "520/520 [==============================] - 6s 11ms/step - loss: 18.1287 - val_loss: 19.8080\n",
            "Epoch 36/200\n",
            "520/520 [==============================] - 7s 13ms/step - loss: 18.1130 - val_loss: 19.8375\n",
            "Epoch 37/200\n",
            "520/520 [==============================] - 6s 11ms/step - loss: 18.0373 - val_loss: 19.7540\n",
            "Epoch 38/200\n",
            "520/520 [==============================] - 6s 12ms/step - loss: 18.0770 - val_loss: 19.7026\n",
            "Epoch 39/200\n",
            "520/520 [==============================] - 6s 12ms/step - loss: 18.0104 - val_loss: 19.6402\n",
            "Epoch 40/200\n",
            "520/520 [==============================] - 6s 11ms/step - loss: 17.9618 - val_loss: 19.8446\n",
            "Epoch 41/200\n",
            "520/520 [==============================] - 7s 14ms/step - loss: 17.9827 - val_loss: 19.7132\n",
            "Epoch 42/200\n",
            "520/520 [==============================] - 6s 11ms/step - loss: 17.8755 - val_loss: 19.7927\n",
            "Epoch 43/200\n",
            "520/520 [==============================] - 7s 14ms/step - loss: 17.9085 - val_loss: 19.7207\n",
            "Epoch 44/200\n",
            "520/520 [==============================] - 5s 10ms/step - loss: 17.8662 - val_loss: 19.6645\n",
            "Epoch 45/200\n",
            "520/520 [==============================] - 7s 14ms/step - loss: 17.8695 - val_loss: 19.8050\n",
            "Epoch 46/200\n",
            "520/520 [==============================] - 6s 11ms/step - loss: 17.8324 - val_loss: 19.5554\n",
            "Epoch 47/200\n",
            "520/520 [==============================] - 7s 13ms/step - loss: 17.7662 - val_loss: 19.5737\n",
            "Epoch 48/200\n",
            "520/520 [==============================] - 6s 12ms/step - loss: 17.7800 - val_loss: 19.6314\n",
            "Epoch 49/200\n",
            "520/520 [==============================] - 6s 12ms/step - loss: 17.7511 - val_loss: 19.6083\n",
            "Epoch 50/200\n",
            "520/520 [==============================] - 6s 12ms/step - loss: 17.7891 - val_loss: 19.5008\n",
            "Epoch 51/200\n",
            "520/520 [==============================] - 6s 11ms/step - loss: 17.7003 - val_loss: 19.7177\n",
            "Epoch 52/200\n",
            "520/520 [==============================] - 7s 14ms/step - loss: 17.6930 - val_loss: 19.5567\n",
            "Epoch 53/200\n",
            "520/520 [==============================] - 5s 10ms/step - loss: 17.6800 - val_loss: 19.5849\n",
            "Epoch 54/200\n",
            "520/520 [==============================] - 7s 14ms/step - loss: 17.6495 - val_loss: 19.4642\n",
            "Epoch 55/200\n",
            "520/520 [==============================] - 6s 11ms/step - loss: 17.6418 - val_loss: 19.5754\n",
            "Epoch 56/200\n",
            "520/520 [==============================] - 7s 14ms/step - loss: 17.6351 - val_loss: 19.7634\n",
            "Epoch 57/200\n",
            "520/520 [==============================] - 6s 11ms/step - loss: 17.5999 - val_loss: 19.4801\n",
            "Epoch 58/200\n",
            "520/520 [==============================] - 7s 14ms/step - loss: 17.5904 - val_loss: 19.5771\n",
            "Epoch 59/200\n",
            "520/520 [==============================] - 6s 11ms/step - loss: 17.6081 - val_loss: 19.4737\n",
            "Epoch 60/200\n",
            "520/520 [==============================] - 7s 13ms/step - loss: 17.5600 - val_loss: 19.6290\n",
            "Epoch 61/200\n",
            "520/520 [==============================] - 6s 12ms/step - loss: 17.6110 - val_loss: 19.4256\n",
            "Epoch 62/200\n",
            "520/520 [==============================] - 6s 12ms/step - loss: 17.5423 - val_loss: 19.5271\n",
            "Epoch 63/200\n",
            "520/520 [==============================] - 6s 12ms/step - loss: 17.5570 - val_loss: 19.6222\n",
            "Epoch 64/200\n",
            "520/520 [==============================] - 6s 11ms/step - loss: 17.4867 - val_loss: 19.3893\n",
            "Epoch 65/200\n",
            "520/520 [==============================] - 7s 14ms/step - loss: 17.5115 - val_loss: 19.3842\n",
            "Epoch 66/200\n",
            "520/520 [==============================] - 5s 10ms/step - loss: 17.4954 - val_loss: 19.5054\n",
            "Epoch 67/200\n",
            "520/520 [==============================] - 7s 14ms/step - loss: 17.4748 - val_loss: 19.7417\n",
            "Epoch 68/200\n",
            "520/520 [==============================] - 6s 11ms/step - loss: 17.4547 - val_loss: 19.5415\n",
            "Epoch 69/200\n",
            "520/520 [==============================] - 7s 14ms/step - loss: 17.4602 - val_loss: 19.4213\n",
            "Epoch 70/200\n",
            "520/520 [==============================] - 6s 11ms/step - loss: 17.4329 - val_loss: 19.6312\n",
            "Epoch 71/200\n",
            "520/520 [==============================] - 7s 13ms/step - loss: 17.3785 - val_loss: 19.5576\n",
            "Epoch 72/200\n",
            "520/520 [==============================] - 6s 11ms/step - loss: 17.4150 - val_loss: 19.4680\n",
            "Epoch 73/200\n",
            "520/520 [==============================] - 7s 13ms/step - loss: 17.3788 - val_loss: 19.8190\n",
            "Epoch 74/200\n",
            "520/520 [==============================] - 6s 12ms/step - loss: 17.3988 - val_loss: 19.3396\n",
            "Epoch 75/200\n",
            "520/520 [==============================] - 6s 11ms/step - loss: 17.3647 - val_loss: 19.3088\n",
            "Epoch 76/200\n",
            "520/520 [==============================] - 7s 14ms/step - loss: 17.3665 - val_loss: 19.6081\n",
            "Epoch 77/200\n",
            "520/520 [==============================] - 5s 10ms/step - loss: 17.3826 - val_loss: 19.3249\n",
            "Epoch 78/200\n",
            "520/520 [==============================] - 7s 14ms/step - loss: 17.3239 - val_loss: 19.3902\n",
            "Epoch 79/200\n",
            "520/520 [==============================] - 6s 11ms/step - loss: 17.3277 - val_loss: 19.4327\n",
            "Epoch 80/200\n",
            "520/520 [==============================] - 7s 14ms/step - loss: 17.3537 - val_loss: 19.5009\n",
            "Epoch 81/200\n",
            "520/520 [==============================] - 6s 11ms/step - loss: 17.2854 - val_loss: 19.3119\n",
            "Epoch 82/200\n",
            "520/520 [==============================] - 7s 14ms/step - loss: 17.2774 - val_loss: 19.3287\n",
            "Epoch 83/200\n",
            "520/520 [==============================] - 6s 11ms/step - loss: 17.2971 - val_loss: 19.4093\n",
            "Epoch 84/200\n",
            "520/520 [==============================] - 7s 14ms/step - loss: 17.2733 - val_loss: 19.5398\n",
            "Epoch 85/200\n",
            "520/520 [==============================] - 6s 11ms/step - loss: 17.2735 - val_loss: 19.3367\n",
            "260/260 [==============================] - 1s 4ms/step - loss: 19.3088\n",
            "Test Loss (MSE): 19.308837890625 - Combination: (200,)\n",
            "\n",
            "\n",
            "MAE: 19.096721649169922, Best combination: (100,)\n"
          ]
        }
      ],
      "source": [
        "def build_model(layers_units):\n",
        "    \"\"\"Construye el modelo basado en una lista de unidades por capa.\"\"\"\n",
        "    model = Sequential()\n",
        "    for i, units in enumerate(layers_units):\n",
        "        print(f'capa{i+1}: {units} - {layers_units}')\n",
        "        return_sequences = i < len(layers_units) - 1  # True para todas menos la última capa LSTM\n",
        "        if i == 0:\n",
        "            model.add(GRU(units=units, activation='relu', return_sequences=return_sequences,\n",
        "                           input_shape=(X_train.shape[1], X_train.shape[2])))\n",
        "        else:\n",
        "            model.add(GRU(units=units, activation='relu', return_sequences=return_sequences))\n",
        "    model.add(Dense(1))  # Capa de salida\n",
        "    model.compile(optimizer='adam', loss='mean_absolute_error')\n",
        "    return model\n",
        "\n",
        "def train_and_evaluate_model(layers_units):\n",
        "    \"\"\"Entrena y evalúa el modelo.\"\"\"\n",
        "    model = build_model(layers_units)\n",
        "    early_stopping = EarlyStopping(monitor='val_loss', patience=10, restore_best_weights=True)\n",
        "    model.fit(X_train, y_train, epochs=200, batch_size=64, validation_data=(X_test, y_test), verbose=1, callbacks=[early_stopping])\n",
        "    test_loss = model.evaluate(X_test, y_test)\n",
        "    return test_loss\n",
        "\n",
        "# Especificación de las unidades para cada: [[capa1], [capa2] ... [capaN]]\n",
        "units_options = [[50, 100, 150, 200]]\n",
        "\n",
        "# Generación de todas las combinaciones posibles de unidades\n",
        "all_combinations = list(product(*units_options))\n",
        "best_mae = np.inf\n",
        "best_combination = None\n",
        "\n",
        "# Bucle para entrenar y evaluar cada combinación\n",
        "for combination in all_combinations:\n",
        "    print(f'Evaluando combinación:')\n",
        "    test_loss = train_and_evaluate_model(combination)\n",
        "    print(f'Test Loss (MSE): {test_loss} - Combination: {combination}\\n\\n')\n",
        "    if test_loss < best_mae:\n",
        "        best_mae = test_loss\n",
        "        best_combination = combination\n",
        "\n",
        "print(f'MAE: {best_mae}, Best combination: {best_combination}')\n"
      ]
    },
    {
      "cell_type": "markdown",
      "metadata": {
        "id": "M9VL2FmdQlN9"
      },
      "source": [
        "# Guardado y exportación del modelo\n",
        "\n",
        "En esta última sección guardaremos y exportaremos el modelo que emplearemos en las predicciones."
      ]
    },
    {
      "cell_type": "code",
      "execution_count": 4,
      "metadata": {
        "colab": {
          "base_uri": "https://localhost:8080/"
        },
        "id": "8Ao8CB-rQu-o",
        "outputId": "1d0ca33b-31d2-42a6-ca17-488de00e170f"
      },
      "outputs": [
        {
          "data": {
            "text/plain": [
              "['/content/drive/MyDrive/Colab Notebooks/gb_model.joblib']"
            ]
          },
          "execution_count": 4,
          "metadata": {},
          "output_type": "execute_result"
        }
      ],
      "source": [
        "# Separar la variable objetivo\n",
        "y = preprocessed_df['1y_sharePrice']\n",
        "X = preprocessed_df.drop('1y_sharePrice', axis=1)\n",
        "\n",
        "# Dividir los datos en conjuntos de entrenamiento y prueba respetando la temporalidad\n",
        "tscv = TimeSeriesSplit(n_splits=5).split(X)\n",
        "\n",
        "# Preparacion del pipeline -> creacion del transformador de columnas\n",
        "numeric_features = X.select_dtypes(include=['int64', 'float64']).columns\n",
        "categorical_features = X.select_dtypes(include=['object', 'string']).columns\n",
        "preprocessor = ColumnTransformer(\n",
        "    transformers=[\n",
        "        ('num', SimpleImputer(strategy='mean'), numeric_features),\n",
        "        ('cat', OneHotEncoder(handle_unknown='ignore'), categorical_features)\n",
        "    ]\n",
        ")\n",
        "\n",
        "# Suponiendo que ya tienes X_train y y_train\n",
        "model = GradientBoostingRegressor(learning_rate=0.07, n_estimators=150, max_depth=5, random_state=42)\n",
        "\n",
        "pipeline = Pipeline([\n",
        "    ('preprocessor', preprocessor),\n",
        "    ('scaler', MaxAbsScaler()),\n",
        "    ('regressor', model)\n",
        "])\n",
        "\n",
        "pipeline.fit(X, y)\n",
        "\n",
        "# Guardar el modelo entrenado en un archivo\n",
        "dump(pipeline, '/content/drive/MyDrive/Colab Notebooks/gb_model.joblib')"
      ]
    }
  ],
  "metadata": {
    "colab": {
      "provenance": []
    },
    "kernelspec": {
      "display_name": "Python 3",
      "name": "python3"
    },
    "language_info": {
      "name": "python",
      "version": "3.11.0"
    }
  },
  "nbformat": 4,
  "nbformat_minor": 0
}
